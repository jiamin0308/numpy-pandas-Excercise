{
 "cells": [
  {
   "cell_type": "markdown",
   "metadata": {},
   "source": [
    "**1. 将 NumPy 导入为 np，并查看版本**\n",
    "\n",
    "难度：L1 \n",
    "\n",
    "问题：将 NumPy 导入为 np，并输出版本号。"
   ]
  },
  {
   "cell_type": "code",
   "execution_count": 3,
   "metadata": {},
   "outputs": [
    {
     "name": "stderr",
     "output_type": "stream",
     "text": [
      "c:\\users\\ifcreate-06\\appdata\\local\\programs\\python\\python37\\lib\\site-packages\\numpy\\_distributor_init.py:32: UserWarning: loaded more than 1 DLL from .libs:\n",
      "c:\\users\\ifcreate-06\\appdata\\local\\programs\\python\\python37\\lib\\site-packages\\numpy\\.libs\\libopenblas.IPBC74C7KURV7CB2PKT5Z5FNR3SIBV4J.gfortran-win_amd64.dll\n",
      "c:\\users\\ifcreate-06\\appdata\\local\\programs\\python\\python37\\lib\\site-packages\\numpy\\.libs\\libopenblas.JPIJNSWNNAN3CE6LLI5FWSPHUT2VXMTH.gfortran-win_amd64.dll\n",
      "  stacklevel=1)\n"
     ]
    },
    {
     "name": "stdout",
     "output_type": "stream",
     "text": [
      "1.20.1\n"
     ]
    }
   ],
   "source": [
    "import numpy as np\n",
    "print(np.__version__)"
   ]
  },
  {
   "cell_type": "markdown",
   "metadata": {},
   "source": [
    "**2. 如何创建 1 维数组？** \n",
    "\n",
    "难度：L1 \n",
    "\n",
    "问题：创建数字从 0 到 9 的 1 维数组。 \n",
    "\n",
    "期望输出： \n",
    "#> array([0, 1, 2, 3, 4, 5, 6, 7, 8, 9])"
   ]
  },
  {
   "cell_type": "code",
   "execution_count": 6,
   "metadata": {},
   "outputs": [
    {
     "data": {
      "text/plain": [
       "array([0, 1, 2, 3, 4, 5, 6, 7, 8, 9])"
      ]
     },
     "execution_count": 6,
     "metadata": {},
     "output_type": "execute_result"
    }
   ],
   "source": [
    "arr = np.arange(10)\n",
    "arr"
   ]
  },
  {
   "cell_type": "markdown",
   "metadata": {},
   "source": [
    "**3. 如何创建 boolean 数组？** \n",
    "\n",
    "难度：L1 \n",
    "\n",
    "问题：创建所有 True 的 3×3 NumPy 数组。"
   ]
  },
  {
   "cell_type": "code",
   "execution_count": 16,
   "metadata": {},
   "outputs": [
    {
     "data": {
      "text/plain": [
       "array([[ True,  True,  True],\n",
       "       [ True,  True,  True],\n",
       "       [ True,  True,  True]])"
      ]
     },
     "execution_count": 16,
     "metadata": {},
     "output_type": "execute_result"
    }
   ],
   "source": [
    "#方法1\n",
    "arr = np.array([1]*9,dtype=np.bool_).reshape(3,3)\n",
    "#方法2\n",
    "arr = np.full((3,3),True,dtype=np.bool_)\n",
    "#方法3\n",
    "arr = np.ones((3,3),dtype=np.bool_)\n",
    "arr"
   ]
  },
  {
   "cell_type": "markdown",
   "metadata": {},
   "source": [
    "**4.如何从一维数组中提取满足给定条件的项？** \n",
    "\n",
    "难度：L1\n",
    "\n",
    "问题：从 arr 中提取所有奇数。\n",
    "\n",
    "输入：`arr = np.array([0, 1, 2, 3, 4, 5, 6, 7, 8, 9])` \n",
    "\n",
    "期望输出：``array([1, 3, 5, 7, 9])``"
   ]
  },
  {
   "cell_type": "code",
   "execution_count": 19,
   "metadata": {},
   "outputs": [
    {
     "data": {
      "text/plain": [
       "(array([1, 3, 5, 7, 9], dtype=int64),)"
      ]
     },
     "execution_count": 19,
     "metadata": {},
     "output_type": "execute_result"
    }
   ],
   "source": [
    "arr = np.array([0, 1, 2, 3, 4, 5, 6, 7, 8, 9])\n",
    "np.where(arr%2!=0)"
   ]
  },
  {
   "cell_type": "markdown",
   "metadata": {},
   "source": [
    "**5.如何将numpy数组中满足条件的项替换成另一个值？** \n",
    "\n",
    "难度等级：L1 \n",
    "\n",
    "问题：将arr中所有的奇数替换为-1\n",
    "\n",
    "输入：`arr = np.array([0, 1, 2, 3, 4, 5, 6, 7, 8, 9])` \n",
    "\n",
    "期望输出：`array([ 0, -1,  2, -1,  4, -1,  6, -1,  8, -1])`\n"
   ]
  },
  {
   "cell_type": "code",
   "execution_count": 23,
   "metadata": {},
   "outputs": [
    {
     "data": {
      "text/plain": [
       "array([ 0, -1,  2, -1,  4, -1,  6, -1,  8, -1])"
      ]
     },
     "execution_count": 23,
     "metadata": {},
     "output_type": "execute_result"
    }
   ],
   "source": [
    "arr = np.array([0, 1, 2, 3, 4, 5, 6, 7, 8, 9])\n",
    "arr[arr%2!=0]=-1\n",
    "arr"
   ]
  },
  {
   "cell_type": "markdown",
   "metadata": {},
   "source": [
    "**6.如何将numpy数组中满足条件的项替换成另一个值，而且不影响原始数组？** \n",
    "\n",
    "难度等级：L2 \n",
    "\n",
    "问题：将arr中所有的奇数替换为-1，而无需更改 arr\n",
    "\n",
    "输入：`arr = np.array([0, 1, 2, 3, 4, 5, 6, 7, 8, 9])` \n",
    "\n",
    "期望输出: \n",
    "\n",
    "out \n",
    "\n",
    "`array([ 0, -1,  2, -1,  4, -1,  6, -1,  8, -1])` \n",
    "\n",
    "arr \n",
    "\n",
    "`array([0, 1, 2, 3, 4, 5, 6, 7, 8, 9])`\n"
   ]
  },
  {
   "cell_type": "code",
   "execution_count": 25,
   "metadata": {},
   "outputs": [
    {
     "name": "stdout",
     "output_type": "stream",
     "text": [
      "[0 1 2 3 4 5 6 7 8 9]\n"
     ]
    },
    {
     "data": {
      "text/plain": [
       "array([ 0, -1,  2, -1,  4, -1,  6, -1,  8, -1])"
      ]
     },
     "execution_count": 25,
     "metadata": {},
     "output_type": "execute_result"
    }
   ],
   "source": [
    "arr = np.arange(10)\n",
    "out = np.where(arr%2!=0,-1,arr)\n",
    "print(arr)\n",
    "out"
   ]
  },
  {
   "cell_type": "markdown",
   "metadata": {},
   "source": [
    "**7.如何重塑数组？** \n",
    "\n",
    "难度等级：L1 \n",
    "\n",
    "问题：将一维数组转换为具有两行的二维数组\n",
    "\n",
    "输入：\n",
    "\n",
    "`np.arange(10)` \n",
    "\n",
    "`#> array([ 0, 1, 2, 3, 4, 5, 6, 7, 8, 9])` \n",
    "\n",
    "期望的输出：\n",
    "\n",
    "`#> array([[0, 1, 2, 3, 4],\n",
    "\n",
    "#>        [5, 6, 7, 8, 9]])`"
   ]
  },
  {
   "cell_type": "code",
   "execution_count": 27,
   "metadata": {},
   "outputs": [
    {
     "data": {
      "text/plain": [
       "array([[0, 1, 2, 3, 4],\n",
       "       [5, 6, 7, 8, 9]])"
      ]
     },
     "execution_count": 27,
     "metadata": {},
     "output_type": "execute_result"
    }
   ],
   "source": [
    "arr = np.arange(10)\n",
    "arr.reshape(2,5)#arr.reshape(2,-1) -1表示指定行数后，程序自动设置列数"
   ]
  },
  {
   "cell_type": "markdown",
   "metadata": {},
   "source": [
    "**8.如何垂直堆叠两个数组？** \n",
    "\n",
    "难度等级：L2 \n",
    "\n",
    "问题：垂直堆叠数组a和b \n",
    "\n",
    "输入： \n",
    "\n",
    "``a = np.arange(10).reshape(2,-1) \n",
    " b = np.repeat(1, 10).reshape(2,-1)`` \n",
    "\n",
    "期望的输出：\n",
    "\n",
    "#> array([[0, 1, 2, 3, 4],\n",
    "#>        [5, 6, 7, 8, 9],\n",
    "#>        [1, 1, 1, 1, 1],\n",
    "#>        [1, 1, 1, 1, 1]])"
   ]
  },
  {
   "cell_type": "code",
   "execution_count": 42,
   "metadata": {},
   "outputs": [
    {
     "data": {
      "text/plain": [
       "array([[0, 1, 2, 3, 4],\n",
       "       [5, 6, 7, 8, 9],\n",
       "       [1, 1, 1, 1, 1],\n",
       "       [1, 1, 1, 1, 1]])"
      ]
     },
     "execution_count": 42,
     "metadata": {},
     "output_type": "execute_result"
    }
   ],
   "source": [
    "a = np.arange(10).reshape(2,-1)\n",
    "b = np.repeat(1, 10).reshape(2,-1)\n",
    "\n",
    "#方法一\n",
    "c = np.concatenate([a,b],axis=0)\n",
    "\n",
    "#方法二\n",
    "c = np.vstack([a,b])\n",
    "\n",
    "#方法三\n",
    "c = np.r_[a, b]\n",
    "c"
   ]
  },
  {
   "cell_type": "markdown",
   "metadata": {},
   "source": [
    "**9.如何水平堆叠两个数组？** \n",
    "\n",
    "难度等级：L2 \n",
    "\n",
    "问题：水平堆叠数组a和b \n",
    "\n",
    "输入： \n",
    "\n",
    "`a = np.arange(10).reshape(2,-1) ` \n",
    "\n",
    "`b = np.repeat(1, 10).reshape(2,-1) ` \n",
    "\n",
    "期望输出： \n",
    "\n",
    "`#> array([[0, 1, 2, 3, 4, 1, 1, 1, 1, 1],` \n",
    "\n",
    "`#>        [5, 6, 7, 8, 9, 1, 1, 1, 1, 1]])`"
   ]
  },
  {
   "cell_type": "code",
   "execution_count": 43,
   "metadata": {},
   "outputs": [
    {
     "data": {
      "text/plain": [
       "array([[0, 1, 2, 3, 4, 1, 1, 1, 1, 1],\n",
       "       [5, 6, 7, 8, 9, 1, 1, 1, 1, 1]])"
      ]
     },
     "execution_count": 43,
     "metadata": {},
     "output_type": "execute_result"
    }
   ],
   "source": [
    "a = np.arange(10).reshape(2,-1)\n",
    "b = np.repeat(1, 10).reshape(2,-1)\n",
    "\n",
    "#方法一\n",
    "c = np.concatenate([a,b],axis=1)\n",
    "\n",
    "#方法二\n",
    "c = np.hstack([a,b])\n",
    "\n",
    "#方法三\n",
    "c = np.c_[a, b]\n",
    "c"
   ]
  },
  {
   "cell_type": "markdown",
   "metadata": {},
   "source": [
    "**10.如何在不进行硬编码的情况下，在numpy中生成自定义序列？** \n",
    "\n",
    "难度等级：L2 \n",
    "\n",
    "问题：不进行硬编码的情况下，创建以下模式。仅使用numpy函数和下面的输入数组a。 \n",
    "\n",
    "输入：\n",
    "\n",
    "`a = np.array([1,2,3])` \n",
    "\n",
    "期望的输出：\n",
    "\n",
    "`#> array([1, 1, 1, 2, 2, 2, 3, 3, 3, 1, 2, 3, 1, 2, 3, 1, 2, 3])`"
   ]
  },
  {
   "cell_type": "code",
   "execution_count": 57,
   "metadata": {},
   "outputs": [
    {
     "data": {
      "text/plain": [
       "array([1, 1, 1, 2, 2, 2, 3, 3, 3, 1, 2, 3, 1, 2, 3, 1, 2, 3])"
      ]
     },
     "execution_count": 57,
     "metadata": {},
     "output_type": "execute_result"
    }
   ],
   "source": [
    "a = np.array([1,2,3])\n",
    "np.r_[np.repeat(a,3),np.tile(a,3)]"
   ]
  },
  {
   "cell_type": "markdown",
   "metadata": {},
   "source": [
    "**11.如何获取两个numpy数组的公共项？** \n",
    "\n",
    "难度等级：L2 \n",
    "\n",
    "问题：获取数组a和数组b的公共项\n",
    "\n",
    "输入：\n",
    "\n",
    "`a = np.array([1,2,3,2,3,4,3,4,5,6])` \n",
    "\n",
    "`b = np.array([7,2,10,2,7,4,9,4,9,8])` \n",
    "\n",
    "期望的输出： \n",
    "\n",
    "`array([2, 4])`"
   ]
  },
  {
   "cell_type": "code",
   "execution_count": 59,
   "metadata": {},
   "outputs": [
    {
     "data": {
      "text/plain": [
       "array([2, 4])"
      ]
     },
     "execution_count": 59,
     "metadata": {},
     "output_type": "execute_result"
    }
   ],
   "source": [
    "a = np.array([1,2,3,2,3,4,3,4,5,6])\n",
    "b = np.array([7,2,10,2,7,4,9,4,9,8])\n",
    "np.intersect1d(a,b)"
   ]
  },
  {
   "cell_type": "markdown",
   "metadata": {},
   "source": [
    "**12.如何从一个数组中删除另一个数组中存在的那些项？** \n",
    "\n",
    "难度等级：L2 \n",
    "\n",
    "问：从数组中a删除数组b中存在的共同项\n",
    "\n",
    "输入：\n",
    "\n",
    "`a = np.array([1,2,3,4,5])` \n",
    "\n",
    "`b = np.array([5,6,7,8,9])` \n",
    "\n",
    "期望的输出：\n",
    "\n",
    "`array([1,2,3,4])`"
   ]
  },
  {
   "cell_type": "code",
   "execution_count": 65,
   "metadata": {},
   "outputs": [
    {
     "data": {
      "text/plain": [
       "array([1, 2, 3, 4])"
      ]
     },
     "execution_count": 65,
     "metadata": {},
     "output_type": "execute_result"
    }
   ],
   "source": [
    "a = np.array([1,2,3,4,5])\n",
    "b = np.array([5,6,7,8,9])\n",
    "np.setdiff1d(a,b)"
   ]
  },
  {
   "cell_type": "markdown",
   "metadata": {},
   "source": [
    "**13.如何获得两个数组的元素匹配的位置？** \n",
    "\n",
    "难度等级：L2 \n",
    "\n",
    "问：获取a和b匹配的位置\n",
    "\n",
    "输入：\n",
    "\n",
    "`a = np.array([1,2,3,2,3,4,3,4,5,6])` \n",
    "\n",
    "`b = np.array([7,2,10,2,7,4,9,4,9,8])` \n",
    "\n",
    "期望的输出： \n",
    "\n",
    "\n",
    "`#> (array([1, 3, 5, 7]),)`"
   ]
  },
  {
   "cell_type": "markdown",
   "metadata": {},
   "source": [
    "**13.如何获得两个数组的相匹配元素的位置？** \n",
    "\n",
    "难度等级：L2 \n",
    "\n",
    "问：获取a和b元素相匹配的位置 \n",
    "\n",
    "输入：\n",
    "\n",
    "`a = np.array([1,2,3,2,3,4,3,4,5,6])` \n",
    "\n",
    "`b = np.array([7,2,10,2,7,4,9,4,9,8])` \n",
    "\n",
    "期望的输出： \n",
    "\n",
    "`#> (array([1, 3, 5, 7]),)`"
   ]
  },
  {
   "cell_type": "code",
   "execution_count": 63,
   "metadata": {},
   "outputs": [
    {
     "data": {
      "text/plain": [
       "(array([1, 3, 5, 7], dtype=int64),)"
      ]
     },
     "execution_count": 63,
     "metadata": {},
     "output_type": "execute_result"
    }
   ],
   "source": [
    "a = np.array([1,2,3,2,3,4,3,4,5,6])\n",
    "b = np.array([7,2,10,2,7,4,9,4,9,8])\n",
    "np.where(a==b)"
   ]
  },
  {
   "cell_type": "markdown",
   "metadata": {},
   "source": [
    "**14.如何从numpy数组中提取给定范围内的所有数字？** \n",
    "\n",
    "难度等级：L2 \n",
    "\n",
    "问：从中数组a中获取5到10之间的所有项 \n",
    "\n",
    "输入：\n",
    "\n",
    "`a = np.array([2, 6, 1, 9, 10, 3, 27])` \n",
    "\n",
    "期望的输出： \n",
    "\n",
    "`（array（[ 6 ，9 ，10 ]），）`\n"
   ]
  },
  {
   "cell_type": "code",
   "execution_count": 80,
   "metadata": {},
   "outputs": [
    {
     "name": "stdout",
     "output_type": "stream",
     "text": [
      "<class 'numpy.ndarray'>\n"
     ]
    },
    {
     "data": {
      "text/plain": [
       "array([ 6,  9, 10])"
      ]
     },
     "execution_count": 80,
     "metadata": {},
     "output_type": "execute_result"
    }
   ],
   "source": [
    "a = np.array([2, 6, 1, 9, 10, 3, 27])\n",
    "print(type(a))\n",
    "\n",
    "#方法1：\n",
    "index = np.isin(a, np.arange(5,11))\n",
    "a[index]\n",
    "\n",
    "# 方法3：\n",
    "index = np.where((a >= 5) & (a <= 10))\n",
    "a[index]\n",
    "\n",
    "# 方法3:\n",
    "index = np.where(np.logical_and(a>=5, a<=10))\n",
    "a[index]\n",
    "\n",
    "\n",
    "# 方法4: (thanks loganzk!)\n",
    "a[(a >= 5) & (a <= 10)]"
   ]
  },
  {
   "cell_type": "markdown",
   "metadata": {},
   "source": [
    "**15.如何制作一个处理标量的python函数以在numpy数组上工作？** \n",
    "\n",
    "难度等级：L2 \n",
    "\n",
    "问：将对两个标量起作用的函数maxx转换为对两个数组起作用 \n",
    "\n",
    "输入：\n",
    "\n",
    "/<code>\n",
    "def maxx(x, y):\n",
    "    \"\"\"Get the maximum of two items\"\"\"\n",
    "    if x >= y:\n",
    "        return x\n",
    "    else:\n",
    "        return y\n",
    "\n",
    "maxx(1, 5)\n",
    "#> 5\n",
    "/</code>\n",
    "\n",
    "期望的输出： \n",
    "\n",
    "/<code>\n",
    "a = np.array([5, 7, 9, 8, 6, 4, 5])\n",
    "b = np.array([6, 3, 4, 8, 9, 7, 1])\n",
    "pair_max(a, b)\n",
    "#> array([ 6.,  7.,  9.,  8.,  9.,  7.,  5.])\n",
    "/</code>"
   ]
  },
  {
   "cell_type": "code",
   "execution_count": 87,
   "metadata": {},
   "outputs": [
    {
     "data": {
      "text/plain": [
       "array([6., 7., 9., 8., 9., 7., 5.])"
      ]
     },
     "execution_count": 87,
     "metadata": {},
     "output_type": "execute_result"
    }
   ],
   "source": [
    "def maxx(x, y):\n",
    "    \"\"\"Get the maximum of two items\"\"\"\n",
    "    if x >= y:\n",
    "        return x\n",
    "    else:\n",
    "        return y\n",
    "a = np.array([5, 7, 9, 8, 6, 4, 5])\n",
    "b = np.array([6, 3, 4, 8, 9, 7, 1])\n",
    "pair_max = np.vectorize(maxx, otypes=[float])\n",
    "pair_max(a, b)"
   ]
  },
  {
   "cell_type": "markdown",
   "metadata": {},
   "source": [
    "**16.如何在两维 numpy数组中交换两列？** \n",
    "\n",
    "难度等级：L2 \n",
    "\n",
    "问：交换arr数组中的第1列和第2列。\n",
    "\n",
    "输入： \n",
    "\n",
    "/<code>\n",
    "arr = np.arange(9).reshape(3,3)\n",
    "/</code> \n",
    "\n",
    "期望的输出： \n",
    "\n",
    "/<code>\n",
    "array([[1, 0, 2],\n",
    "       [4, 3, 5],\n",
    "       [7, 6, 8]])\n",
    "/</code> "
   ]
  },
  {
   "cell_type": "code",
   "execution_count": 97,
   "metadata": {},
   "outputs": [
    {
     "name": "stdout",
     "output_type": "stream",
     "text": [
      "[[0 1 2]\n",
      " [3 4 5]\n",
      " [6 7 8]]\n"
     ]
    },
    {
     "data": {
      "text/plain": [
       "array([[1, 0, 2],\n",
       "       [4, 3, 5],\n",
       "       [7, 6, 8]])"
      ]
     },
     "execution_count": 97,
     "metadata": {},
     "output_type": "execute_result"
    }
   ],
   "source": [
    "arr = np.arange(9).reshape(3,3)\n",
    "print(arr)\n",
    "arr[:,[1,0,2]]"
   ]
  },
  {
   "cell_type": "markdown",
   "metadata": {},
   "source": [
    "**17.如何交换二维numpy数组中的两行？** \n",
    "\n",
    "难度等级：L2 \n",
    "\n",
    "问题：交换数组arr中的第1行和第2行：\n",
    "\n",
    "```arr = np.arange(9).reshape(3,3)\n",
    "arr```"
   ]
  },
  {
   "cell_type": "code",
   "execution_count": 99,
   "metadata": {},
   "outputs": [
    {
     "name": "stdout",
     "output_type": "stream",
     "text": [
      "[[0 1 2]\n",
      " [3 4 5]\n",
      " [6 7 8]]\n"
     ]
    },
    {
     "data": {
      "text/plain": [
       "array([[3, 4, 5],\n",
       "       [0, 1, 2],\n",
       "       [6, 7, 8]])"
      ]
     },
     "execution_count": 99,
     "metadata": {},
     "output_type": "execute_result"
    }
   ],
   "source": [
    "arr = np.arange(9).reshape(3,3)\n",
    "print(arr)\n",
    "arr[[1,0,2],:]"
   ]
  },
  {
   "cell_type": "markdown",
   "metadata": {},
   "source": [
    "**18.如何反转2D数组的行？** \n",
    "\n",
    "难度等级：L2 \n",
    "\n",
    "问：反转2D数组arr的行。\n",
    "\n",
    "输入： \n",
    "\n",
    "```arr = np.arange(9).reshape(3,3)\n",
    "arr\n",
    "[[0 1 2]\n",
    " [3 4 5]\n",
    " [6 7 8]]```\n",
    "\n",
    "期望的输出： \n",
    "\n",
    "```array([[6, 7, 8],\n",
    "       [3, 4, 5],\n",
    "       [0, 1, 2]])```\n"
   ]
  },
  {
   "cell_type": "code",
   "execution_count": 101,
   "metadata": {},
   "outputs": [
    {
     "data": {
      "text/plain": [
       "array([[6, 7, 8],\n",
       "       [3, 4, 5],\n",
       "       [0, 1, 2]])"
      ]
     },
     "execution_count": 101,
     "metadata": {},
     "output_type": "execute_result"
    }
   ],
   "source": [
    "arr = np.arange(9).reshape(3,3)\n",
    "arr[::-1]"
   ]
  },
  {
   "cell_type": "markdown",
   "metadata": {},
   "source": [
    "**19.如何反转2D数组的列？** \n",
    "\n",
    "难度等级：L2 \n",
    "\n",
    "问：反转2D数组arr的列。\n",
    "\n",
    "输入： \n",
    "\n",
    "```arr = np.arange(9).reshape(3,3)\n",
    "arr\n",
    "[[0 1 2]\n",
    " [3 4 5]\n",
    " [6 7 8]]```\n",
    "\n",
    "期望的输出： \n",
    "\n",
    "```#> array([[2, 1, 0],\n",
    "        [5, 4, 3],\n",
    "        [8, 7, 6]])```"
   ]
  },
  {
   "cell_type": "code",
   "execution_count": 104,
   "metadata": {},
   "outputs": [
    {
     "data": {
      "text/plain": [
       "array([[2, 1, 0],\n",
       "       [5, 4, 3],\n",
       "       [8, 7, 6]])"
      ]
     },
     "execution_count": 104,
     "metadata": {},
     "output_type": "execute_result"
    }
   ],
   "source": [
    "arr = np.arange(9).reshape(3,3)\n",
    "arr[:,::-1]"
   ]
  },
  {
   "cell_type": "markdown",
   "metadata": {},
   "source": [
    "**20.如何创建一个包含5到10之间的随机浮点数的2D数组？** \n",
    "\n",
    "难度等级：L2 \n",
    "\n",
    "问：创建一个形状为5x3的2D数组，以包含5到10之间的随机十进制数。"
   ]
  },
  {
   "cell_type": "code",
   "execution_count": 119,
   "metadata": {},
   "outputs": [
    {
     "name": "stdout",
     "output_type": "stream",
     "text": [
      "[[9.99390671 6.59348571 7.71073234]\n",
      " [6.89846906 5.25972352 5.73728072]\n",
      " [7.34499805 7.16443203 8.37334441]\n",
      " [6.61613051 6.93669015 6.50058619]\n",
      " [9.23717864 6.07602763 8.85324086]]\n",
      "[[9.69932335 9.90903109 7.34282408]\n",
      " [7.41741311 9.87318211 7.6986043 ]\n",
      " [6.46607236 5.29084503 8.61214674]\n",
      " [9.2290614  8.34204058 8.79906149]\n",
      " [6.34140602 9.86012432 6.91544042]]\n"
     ]
    }
   ],
   "source": [
    "# 方法 1:\n",
    "rand_arr = np.random.randint(low=5, high=10, size=(5,3)) + np.random.random((5,3))\n",
    "print(rand_arr)\n",
    "\n",
    "# 方法 2:\n",
    "rand_arr = np.random.uniform(5,10, size=(5,3))\n",
    "print(rand_arr)"
   ]
  },
  {
   "cell_type": "code",
   "execution_count": 120,
   "metadata": {},
   "outputs": [
    {
     "data": {
      "text/plain": [
       "array([[6.57965908, 8.86200376, 5.85241429],\n",
       "       [5.79113381, 8.86717009, 5.67536708],\n",
       "       [5.4070542 , 9.47323233, 6.79741606],\n",
       "       [9.22002176, 6.8328602 , 9.73247235],\n",
       "       [5.95403343, 9.3688248 , 8.29331962]])"
      ]
     },
     "execution_count": 120,
     "metadata": {},
     "output_type": "execute_result"
    }
   ],
   "source": [
    "arr = np.random.uniform(5,10,size=(5,3))\n",
    "arr"
   ]
  },
  {
   "cell_type": "markdown",
   "metadata": {},
   "source": [
    "**21.如何在python numpy数组中仅打印3个小数位？** \n",
    "\n",
    "难度等级：L1 \n",
    "\n",
    "问：打印或仅显示numpy数组rand_arr的3个小数位\n",
    "\n",
    "输入： \n",
    "\n",
    "`rand_arr = np.random.random((5,3))`"
   ]
  },
  {
   "cell_type": "code",
   "execution_count": 132,
   "metadata": {},
   "outputs": [
    {
     "data": {
      "text/plain": [
       "array([[0.833, 0.908, 0.207],\n",
       "       [0.93 , 0.316, 0.461],\n",
       "       [0.3  , 0.628, 0.865],\n",
       "       [0.529, 0.895, 0.409],\n",
       "       [0.108, 0.777, 0.295]])"
      ]
     },
     "execution_count": 132,
     "metadata": {},
     "output_type": "execute_result"
    }
   ],
   "source": [
    "rand_arr = np.random.random((5,3))\n",
    "np.set_printoptions(precision=3)\n",
    "rand_arr"
   ]
  },
  {
   "cell_type": "markdown",
   "metadata": {},
   "source": [
    "**22.如何通过抑制科学计数法（如1e10）来漂亮地打印一个numpy数组？** \n",
    "\n",
    "难度等级：L1 \n",
    "\n",
    "问：rand_arr压制科学记数法（如1e10）可以打印出漂亮的文字 \n",
    "\n",
    "输入：\n",
    "\n",
    "/<code>\n",
    "#Create the random array\n",
    "np.random.seed(100)\n",
    "rand_arr = np.random.random([3,3])/1e3\n",
    "rand_arr\n",
    "\n",
    "array([[  5.434049e-04,   2.783694e-04,   4.245176e-04],\n",
    "        [  8.447761e-04,   4.718856e-06,   1.215691e-04],\n",
    "        [  6.707491e-04,   8.258528e-04,   1.367066e-04]])\n",
    "/</code> \n",
    "\n",
    "期望的输出： \n",
    "\n",
    "\n",
    "``` array([[ 0.000543,  0.000278,  0.000425],\n",
    "        [ 0.000845,  0.000005,  0.000122],\n",
    "       [ 0.000671,  0.000826,  0.000137]])```"
   ]
  },
  {
   "cell_type": "code",
   "execution_count": 136,
   "metadata": {},
   "outputs": [
    {
     "data": {
      "text/plain": [
       "array([[0.000543, 0.000278, 0.000425],\n",
       "       [0.000845, 0.000005, 0.000122],\n",
       "       [0.000671, 0.000826, 0.000137]])"
      ]
     },
     "execution_count": 136,
     "metadata": {},
     "output_type": "execute_result"
    }
   ],
   "source": [
    "np.random.seed(100)\n",
    "rand_arr = np.random.random([3,3])/1e3\n",
    "np.set_printoptions(suppress=True, precision=6)  # precision is optional\n",
    "rand_arr"
   ]
  },
  {
   "cell_type": "markdown",
   "metadata": {},
   "source": [
    "**23.如何限制numpy数组打印输出中的项目数？** \n",
    "\n",
    "难度等级：L1 \n",
    "\n",
    "问：限制numpy数组a中打印的项目数最多为6个元素。\n",
    "\n",
    "输入：\n",
    "\n",
    "```\n",
    "a = np.arange(15)\n",
    "#> array([ 0,  1,  2,  3,  4,  5,  6,  7,  8,  9, 10, 11, 12, 13, 14]) ``` \n",
    "\n",
    "期望的输出： \n",
    "\n",
    "```\n",
    "#> array([ 0,  1,  2, ..., 12, 13, 14])```"
   ]
  },
  {
   "cell_type": "code",
   "execution_count": 138,
   "metadata": {},
   "outputs": [
    {
     "data": {
      "text/plain": [
       "array([ 0,  1,  2, ..., 12, 13, 14])"
      ]
     },
     "execution_count": 138,
     "metadata": {},
     "output_type": "execute_result"
    }
   ],
   "source": [
    "a = np.arange(15)\n",
    "np.set_printoptions(threshold=6)\n",
    "a"
   ]
  },
  {
   "cell_type": "markdown",
   "metadata": {},
   "source": [
    "**24.如何在不截断的情况下打印完整的numpy数组** \n",
    "\n",
    "难度等级：L1 \n",
    "\n",
    "问：打印完整的numpy数组a而不被截断。\n",
    "\n",
    "输入：\n",
    "\n",
    "/<code>\n",
    "np.set_printoptions(threshold=6)\n",
    "a = np.arange(15)\n",
    "a\n",
    "#> array([ 0,  1,  2, ..., 12, 13, 14])\n",
    "/<code> \n",
    "    \n",
    "期望的输出：\n",
    "```\n",
    "a\n",
    "#> array([ 0,  1,  2,  3,  4,  5,  6,  7,  8,  9, 10, 11, 12, 13, 14])```"
   ]
  },
  {
   "cell_type": "code",
   "execution_count": 151,
   "metadata": {},
   "outputs": [
    {
     "data": {
      "text/plain": [
       "array([ 0,  1,  2,  3,  4,  5,  6,  7,  8,  9, 10, 11, 12, 13, 14])"
      ]
     },
     "execution_count": 151,
     "metadata": {},
     "output_type": "execute_result"
    }
   ],
   "source": [
    "np.set_printoptions(threshold=6)\n",
    "a = np.arange(15)\n",
    "np.set_printoptions(edgeitems=3, infstr='inf',\n",
    "   linewidth=75, nanstr='nan', precision=8,\n",
    "   suppress=False, threshold=1000, formatter=None)#恢复默认的设置\n",
    "a\n",
    "#np.set_printoptions(threshold=np.nan)\n",
    "#a"
   ]
  },
  {
   "cell_type": "markdown",
   "metadata": {},
   "source": [
    "**25.如何导入带有数字和文本的数据集，以使numpy中的文本完整无缺？** \n",
    "\n",
    "难度等级：L2 \n",
    "\n",
    "问题：导入鸢尾花数据集iris dataset，并保持文本完整无缺,链接=‘https://archive.ics.uci.edu/ml/machine-learning-databases/iris/iris.data’"
   ]
  },
  {
   "cell_type": "code",
   "execution_count": 156,
   "metadata": {},
   "outputs": [
    {
     "data": {
      "text/plain": [
       "array([[b'5.1', b'3.5', b'1.4', b'0.2', b'Iris-setosa'],\n",
       "       [b'4.9', b'3.0', b'1.4', b'0.2', b'Iris-setosa'],\n",
       "       [b'4.7', b'3.2', b'1.3', b'0.2', b'Iris-setosa'],\n",
       "       ...,\n",
       "       [b'6.5', b'3.0', b'5.2', b'2.0', b'Iris-virginica'],\n",
       "       [b'6.2', b'3.4', b'5.4', b'2.3', b'Iris-virginica'],\n",
       "       [b'5.9', b'3.0', b'5.1', b'1.8', b'Iris-virginica']], dtype=object)"
      ]
     },
     "execution_count": 156,
     "metadata": {},
     "output_type": "execute_result"
    }
   ],
   "source": [
    "url = 'https://archive.ics.uci.edu/ml/machine-learning-databases/iris/iris.data'\n",
    "iris  = np.genfromtxt(url,delimiter=',', dtype='object')#dtype='object',如果不设置，则文本就会导入到nan，所以为了保持文本完整就设置成object对象\n",
    "np.set_printoptions(threshold=5)\n",
    "iris"
   ]
  },
  {
   "cell_type": "markdown",
   "metadata": {},
   "source": [
    "**26.如何从一维元组数组中提取特定列？** \n",
    "\n",
    "难度等级：L2 \n",
    "\n",
    "问：从导入的iris一维元组数组中提取文本列species \n",
    "\n",
    "输入：\n",
    "\n",
    "/<code>\n",
    "url = 'https://archive.ics.uci.edu/ml/machine-learning-databases/iris/iris.data'\n",
    "iris_1d = np.genfromtxt(url, delimiter=',', dtype=None)\n",
    "/<code>"
   ]
  },
  {
   "cell_type": "code",
   "execution_count": 160,
   "metadata": {},
   "outputs": [
    {
     "name": "stderr",
     "output_type": "stream",
     "text": [
      "c:\\users\\ifcreate-06\\appdata\\local\\programs\\python\\python37\\lib\\site-packages\\ipykernel_launcher.py:2: VisibleDeprecationWarning: Reading unicode strings without specifying the encoding argument is deprecated. Set the encoding, use None for the system default.\n",
      "  \n"
     ]
    },
    {
     "data": {
      "text/plain": [
       "array([b'Iris-setosa', b'Iris-setosa', b'Iris-setosa', ...,\n",
       "       b'Iris-virginica', b'Iris-virginica', b'Iris-virginica'],\n",
       "      dtype='|S15')"
      ]
     },
     "execution_count": 160,
     "metadata": {},
     "output_type": "execute_result"
    }
   ],
   "source": [
    "url = 'https://archive.ics.uci.edu/ml/machine-learning-databases/iris/iris.data'\n",
    "iris_1d = np.genfromtxt(url, delimiter=',', dtype=None)\n",
    "species = np.array([row[4] for row in iris_1d])\n",
    "species"
   ]
  },
  {
   "cell_type": "markdown",
   "metadata": {},
   "source": [
    "**27.如何将一元组的一维数组转换为二维的numpy数组？** \n",
    "\n",
    "难度等级：L2 \n",
    "\n",
    "问：通过省略文本字段species，将1Diris数组转换为2D数组iris_2d\n",
    "\n",
    "输入：\n",
    "\n",
    "```\n",
    "url = 'https://archive.ics.uci.edu/ml/machine-learning-databases/iris/iris.data'\n",
    "iris_1d = np.genfromtxt(url, delimiter=',', dtype=None)```"
   ]
  },
  {
   "cell_type": "code",
   "execution_count": 172,
   "metadata": {},
   "outputs": [
    {
     "name": "stderr",
     "output_type": "stream",
     "text": [
      "c:\\users\\ifcreate-06\\appdata\\local\\programs\\python\\python37\\lib\\site-packages\\ipykernel_launcher.py:2: VisibleDeprecationWarning: Reading unicode strings without specifying the encoding argument is deprecated. Set the encoding, use None for the system default.\n",
      "  \n",
      "c:\\users\\ifcreate-06\\appdata\\local\\programs\\python\\python37\\lib\\site-packages\\ipykernel_launcher.py:4: VisibleDeprecationWarning: Reading unicode strings without specifying the encoding argument is deprecated. Set the encoding, use None for the system default.\n",
      "  after removing the cwd from sys.path.\n"
     ]
    },
    {
     "data": {
      "text/plain": [
       "array([[5.1, 3.5, 1.4, 0.2],\n",
       "       [4.9, 3. , 1.4, 0.2],\n",
       "       [4.7, 3.2, 1.3, 0.2],\n",
       "       ...,\n",
       "       [6.5, 3. , 5.2, 2. ],\n",
       "       [6.2, 3.4, 5.4, 2.3],\n",
       "       [5.9, 3. , 5.1, 1.8]])"
      ]
     },
     "execution_count": 172,
     "metadata": {},
     "output_type": "execute_result"
    }
   ],
   "source": [
    "url = 'https://archive.ics.uci.edu/ml/machine-learning-databases/iris/iris.data'\n",
    "iris_1d = np.genfromtxt(url, delimiter=',', dtype=None)\n",
    "url = 'https://archive.ics.uci.edu/ml/machine-learning-databases/iris/iris.data'\n",
    "iris_1d = np.genfromtxt(url, delimiter=',', dtype=None)\n",
    "#print(iris_1d)\n",
    "\n",
    "iris_2d = np.array([row.tolist()[:4] for row in iris_1d])\n",
    "iris_2d"
   ]
  },
  {
   "cell_type": "markdown",
   "metadata": {},
   "source": [
    "**28.如何计算一个numpy数组的均值，中位数，标准差？** \n",
    "\n",
    "难度：L1 \n",
    "\n",
    "问：求出iris的sepallength列的均值，中位数，标准差（第一列）#names = ('sepallength', 'sepalwidth', 'petallength', 'petalwidth', 'species')\n",
    "\n",
    "输入：\n",
    "\n",
    "```url = 'https://archive.ics.uci.edu/ml/machine-learning-databases/iris/iris.data'\n",
    "iris = np.genfromtxt(url, delimiter=',', dtype='object')```"
   ]
  },
  {
   "cell_type": "code",
   "execution_count": 183,
   "metadata": {},
   "outputs": [
    {
     "name": "stdout",
     "output_type": "stream",
     "text": [
      "mean:5.843333333333334,median:5.8,std:0.8253012917851409\n"
     ]
    }
   ],
   "source": [
    "url = 'https://archive.ics.uci.edu/ml/machine-learning-databases/iris/iris.data'\n",
    "iris = np.genfromtxt(url, delimiter=',', dtype='object')\n",
    "sepallength = np.genfromtxt(url, delimiter=',', dtype='float',usecols=(0))#np.array(iris[:,0],dtype='float')\n",
    "mean,median,std = np.mean(sepallength),np.median(sepallength),np.std(sepallength)\n",
    "print(f\"mean:{mean},median:{median},std:{std}\")"
   ]
  },
  {
   "cell_type": "markdown",
   "metadata": {},
   "source": [
    "**29.如何规范化数组，以使值恰好在0到1之间？** \n",
    "\n",
    "难度：L2 \n",
    "\n",
    "Q:创建归一化形式的iris的sepallength，其值范围恰好0与1之间，使得最小的值为0，并且最大的值为1。\n",
    "\n",
    "输入：\n",
    "\n",
    "```\n",
    "url = 'https://archive.ics.uci.edu/ml/machine-learning-databases/iris/iris.data'\n",
    "sepallength = np.genfromtxt(url, delimiter=',', dtype='float', usecols=[0])```"
   ]
  },
  {
   "cell_type": "code",
   "execution_count": 189,
   "metadata": {},
   "outputs": [
    {
     "name": "stdout",
     "output_type": "stream",
     "text": [
      "[0.22222222 0.16666667 0.11111111 ... 0.61111111 0.52777778 0.44444444]\n"
     ]
    }
   ],
   "source": [
    "url = 'https://archive.ics.uci.edu/ml/machine-learning-databases/iris/iris.data'\n",
    "sepallength = np.genfromtxt(url, delimiter=',', dtype='float', usecols=[0])\n",
    "smax,smin = np.max(sepallength),np.min(sepallength)\n",
    "S = (sepallength-smin)/(smax-smin)\n",
    "# or \n",
    "#S = (sepallength - smin)/sepallength.ptp()  # Thanks, David Ojeda!\n",
    "print(S)"
   ]
  },
  {
   "cell_type": "markdown",
   "metadata": {},
   "source": [
    "**30.如何计算softmax分数？(L3)** \n",
    "\n",
    "问：计算sepallength的softmax得分 \n",
    "\n",
    "输入： \n",
    "\n",
    "```\n",
    "url = 'https://archive.ics.uci.edu/ml/machine-learning-databases/iris/iris.data'\n",
    "sepallength = np.genfromtxt(url, delimiter=',', dtype='float', usecols=[0])```"
   ]
  },
  {
   "cell_type": "code",
   "execution_count": 211,
   "metadata": {},
   "outputs": [
    {
     "name": "stdout",
     "output_type": "stream",
     "text": [
      "[0.00221959 0.00181724 0.00148783 ... 0.00900086 0.006668   0.00493978]\n",
      "[0.00221959 0.00181724 0.00148783 ... 0.00900086 0.006668   0.00493978]\n"
     ]
    }
   ],
   "source": [
    "url = 'https://archive.ics.uci.edu/ml/machine-learning-databases/iris/iris.data'\n",
    "sepallength = np.genfromtxt(url, delimiter=',', dtype='float', usecols=[0])\n",
    "\n",
    "res = np.exp(sepallength)/np.sum(np.exp(sepallength))\n",
    "np.set_printoptions(threshold=10)\n",
    "print(res)\n",
    "\n",
    "def softmax(x):\n",
    "    \"\"\"Compute softmax values for each sets of scores in x.\n",
    "    https://stackoverflow.com/questions/34968722/how-to-implement-the-softmax-function-in-python\"\"\"\n",
    "    e_x = np.exp(x - np.max(x))\n",
    "    return e_x / e_x.sum(axis=0)\n",
    "print(softmax(sepallength))"
   ]
  },
  {
   "cell_type": "markdown",
   "metadata": {},
   "source": [
    "**31.如何找到一个numpy数组的百分位数？** \n",
    "\n",
    "难度等级：L1 \n",
    "\n",
    "问：找到iris数据sepallength列的第5和第95百分位数\n",
    "\n",
    "```url = 'https://archive.ics.uci.edu/ml/machine-learning-databases/iris/iris.data'\n",
    "sepallength = np.genfromtxt(url, delimiter=',', dtype='float', usecols=[0])```"
   ]
  },
  {
   "cell_type": "code",
   "execution_count": 214,
   "metadata": {},
   "outputs": [
    {
     "data": {
      "text/plain": [
       "array([4.6  , 7.255])"
      ]
     },
     "execution_count": 214,
     "metadata": {},
     "output_type": "execute_result"
    }
   ],
   "source": [
    "url = 'https://archive.ics.uci.edu/ml/machine-learning-databases/iris/iris.data'\n",
    "sepallength = np.genfromtxt(url, delimiter=',', dtype='float', usecols=[0])\n",
    "np.percentile(sepallength, q=[5,95])"
   ]
  },
  {
   "cell_type": "markdown",
   "metadata": {},
   "source": [
    "**32.如何在数组的随机位置插入值？** \n",
    "\n",
    "难度等级：L2 \n",
    "\n",
    "问：在iris_2d数据集的20个随机位置插入值np.nan \n",
    "\n",
    "输入： \n",
    "\n",
    "```url = 'https://archive.ics.uci.edu/ml/machine-learning-databases/iris/iris.data'\n",
    "iris_2d = np.genfromtxt(url, delimiter=',', dtype='object')```"
   ]
  },
  {
   "cell_type": "code",
   "execution_count": 221,
   "metadata": {},
   "outputs": [
    {
     "name": "stdout",
     "output_type": "stream",
     "text": [
      "[[b'5.1' b'3.5' b'1.4' b'0.2' b'Iris-setosa']\n",
      " [b'4.9' b'3.0' b'1.4' b'0.2' b'Iris-setosa']\n",
      " [b'4.7' b'3.2' b'1.3' b'0.2' b'Iris-setosa']\n",
      " [b'4.6' b'3.1' b'1.5' b'0.2' b'Iris-setosa']\n",
      " [b'5.0' b'3.6' b'1.4' b'0.2' b'Iris-setosa']\n",
      " [b'5.4' b'3.9' b'1.7' b'0.4' b'Iris-setosa']\n",
      " [b'4.6' b'3.4' b'1.4' b'0.3' b'Iris-setosa']\n",
      " [b'5.0' b'3.4' b'1.5' b'0.2' b'Iris-setosa']\n",
      " [b'4.4' b'2.9' nan b'0.2' b'Iris-setosa']\n",
      " [b'4.9' b'3.1' b'1.5' b'0.1' b'Iris-setosa']]\n"
     ]
    }
   ],
   "source": [
    "url = 'https://archive.ics.uci.edu/ml/machine-learning-databases/iris/iris.data'\n",
    "iris_2d = np.genfromtxt(url, delimiter=',', dtype='object')\n",
    "np.set_printoptions(threshold=1000)\n",
    "\n",
    "np.random.seed(100)\n",
    "iris_2d[np.random.randint(iris_2d.shape[0],size=20),np.random.randint(iris_2d.shape[1],size=20)]=np.nan\n",
    "print(iris_2d[:10])"
   ]
  },
  {
   "cell_type": "markdown",
   "metadata": {},
   "source": [
    "**33.如何在numpy数组中查找缺失值的位置？** \n",
    "\n",
    "难度等级：L2 \n",
    "\n",
    "问：在iris_2d的sepallength（第1列）中找到缺失值的数量和位置\n",
    "\n",
    "输入： \n",
    "\n",
    "```url = 'https://archive.ics.uci.edu/ml/machine-learning-databases/iris/iris.data'\n",
    "iris_2d = np.genfromtxt(url, delimiter=',', dtype='float')\n",
    "iris_2d[np.random.randint(150, size=20), np.random.randint(4, size=20)] = np.nan```"
   ]
  },
  {
   "cell_type": "code",
   "execution_count": 227,
   "metadata": {},
   "outputs": [
    {
     "name": "stdout",
     "output_type": "stream",
     "text": [
      "Number of missing values: \n",
      " 6\n",
      "Position of missing values: \n",
      " (array([ 32,  40,  42,  71,  93, 101], dtype=int64),)\n"
     ]
    }
   ],
   "source": [
    "url = 'https://archive.ics.uci.edu/ml/machine-learning-databases/iris/iris.data'\n",
    "iris_2d = np.genfromtxt(url, delimiter=',', dtype='float')\n",
    "iris_2d[np.random.randint(150, size=20), np.random.randint(4, size=20)] = np.nan\n",
    "\n",
    "print(\"Number of missing values: \\n\", np.isnan(iris_2d[:, 0]).sum())\n",
    "print(\"Position of missing values: \\n\", np.where(np.isnan(iris_2d[:, 0])))"
   ]
  },
  {
   "cell_type": "markdown",
   "metadata": {},
   "source": [
    "**34.如何根据两个或多个条件过滤一个numpy数组？** \n",
    "\n",
    "难度等级：L3 \n",
    "\n",
    "问：筛选iris_2d第3列petallength > 1.5和第1列sepallength  < 5.0 的行\n",
    "\n",
    "输入： \n",
    "\n",
    "```url = 'https://archive.ics.uci.edu/ml/machine-learning-databases/iris/iris.data'\n",
    "iris_2d = np.genfromtxt(url, delimiter=',', dtype='float', usecols=[0,1,2,3])```"
   ]
  },
  {
   "cell_type": "code",
   "execution_count": 232,
   "metadata": {},
   "outputs": [
    {
     "data": {
      "text/plain": [
       "array([[4.8, 3.4, 1.6, 0.2],\n",
       "       [4.8, 3.4, 1.9, 0.2],\n",
       "       [4.7, 3.2, 1.6, 0.2],\n",
       "       [4.8, 3.1, 1.6, 0.2],\n",
       "       [4.9, 2.4, 3.3, 1. ],\n",
       "       [4.9, 2.5, 4.5, 1.7]])"
      ]
     },
     "execution_count": 232,
     "metadata": {},
     "output_type": "execute_result"
    }
   ],
   "source": [
    "url = 'https://archive.ics.uci.edu/ml/machine-learning-databases/iris/iris.data'\n",
    "iris_2d = np.genfromtxt(url, delimiter=',', dtype='float', usecols=[0,1,2,3])\n",
    "\n",
    "#方法1：\n",
    "condition = (iris_2d[:, 2] > 1.5) & (iris_2d[:, 0] < 5.0)\n",
    "\n",
    "#方法2：\n",
    "condition = np.where(np.logical_and((iris_2d[:,2]>1.5),(iris_2d[:,0]<5.0)))\n",
    "\n",
    "iris_2d[condition]"
   ]
  },
  {
   "cell_type": "markdown",
   "metadata": {},
   "source": [
    "**35.如何从numpy数组中删除包含缺失值的行？** \n",
    "\n",
    "难度等级：L3：\n",
    "\n",
    "问：选择没有任何nan值的iris_2d行\n",
    "\n",
    "输入： \n",
    "\n",
    "```url = 'https://archive.ics.uci.edu/ml/machine-learning-databases/iris/iris.data'\n",
    "iris_2d = np.genfromtxt(url, delimiter=',', dtype='float', usecols=[0,1,2,3])```"
   ]
  },
  {
   "cell_type": "code",
   "execution_count": 253,
   "metadata": {},
   "outputs": [
    {
     "name": "stdout",
     "output_type": "stream",
     "text": [
      "[[5.1 3.5 1.4 0.2]\n",
      " [4.9 3.  1.4 0.2]\n",
      " [4.7 3.2 1.3 0.2]\n",
      " [4.6 3.1 1.5 0.2]\n",
      " [5.  3.6 1.4 0.2]\n",
      " [5.4 3.9 1.7 0.4]\n",
      " [5.  3.4 1.5 0.2]\n",
      " [4.4 2.9 1.4 0.2]\n",
      " [4.9 3.1 1.5 0.1]\n",
      " [5.4 3.7 1.5 0.2]]\n"
     ]
    },
    {
     "data": {
      "text/plain": [
       "array([[5.1, 3.5, 1.4, 0.2],\n",
       "       [4.9, 3. , 1.4, 0.2],\n",
       "       [4.7, 3.2, 1.3, 0.2],\n",
       "       [4.6, 3.1, 1.5, 0.2],\n",
       "       [5. , 3.6, 1.4, 0.2],\n",
       "       [5.4, 3.9, 1.7, 0.4],\n",
       "       [5. , 3.4, 1.5, 0.2],\n",
       "       [4.4, 2.9, 1.4, 0.2],\n",
       "       [4.9, 3.1, 1.5, 0.1],\n",
       "       [5.4, 3.7, 1.5, 0.2]])"
      ]
     },
     "execution_count": 253,
     "metadata": {},
     "output_type": "execute_result"
    }
   ],
   "source": [
    "url = 'https://archive.ics.uci.edu/ml/machine-learning-databases/iris/iris.data'\n",
    "iris_2d = np.genfromtxt(url, delimiter=',', dtype='float', usecols=[0,1,2,3])\n",
    "\n",
    "iris_2d[np.random.randint(150, size=20), np.random.randint(4, size=20)] = np.nan\n",
    "\n",
    "#方法1：\n",
    "any_nan_in_row  = np.array([~np.any(np.isnan(row)) for row in iris_2d])\n",
    "print(iris_2d[any_nan_in_row][:10])\n",
    "#方法2：(By Rong)\n",
    "iris_2d[np.sum(np.isnan(iris_2d), axis = 1) == 0][:10]"
   ]
  },
  {
   "cell_type": "markdown",
   "metadata": {},
   "source": [
    "**36.如何找到一个numpy数组的两列之间的相关性？** \n",
    "\n",
    "难度等级：L2 \n",
    "\n",
    "问：在iris_2d中找到SepalLength（第一列）和PetalLength（第三列）之间的相关性 \n",
    "\n",
    "输入： \n",
    "\n",
    "```url = 'https://archive.ics.uci.edu/ml/machine-learning-databases/iris/iris.data'\n",
    "iris_2d = np.genfromtxt(url, delimiter=',', dtype='float', usecols=[0,1,2,3])```"
   ]
  },
  {
   "cell_type": "code",
   "execution_count": 267,
   "metadata": {},
   "outputs": [
    {
     "data": {
      "text/plain": [
       "0.8717541573048712"
      ]
     },
     "execution_count": 267,
     "metadata": {},
     "output_type": "execute_result"
    }
   ],
   "source": [
    "\n",
    "url = 'https://archive.ics.uci.edu/ml/machine-learning-databases/iris/iris.data'\n",
    "iris_2d = np.genfromtxt(url, delimiter=',', dtype='float', usecols=[0,1,2,3])\n",
    "\n",
    "#np.corrcoef(iris_2d[:,0],iris_2d[:,2])\n",
    "sepalLength = iris_2d[:, 0]\n",
    "petalLength = iris_2d[:, 2]\n",
    "np.corrcoef(sepalLength, petalLength)[0,1]\n"
   ]
  },
  {
   "cell_type": "markdown",
   "metadata": {},
   "source": [
    "**37.如何查找给定数组是否具有空值？** \n",
    "\n",
    "难度等级：L2 \n",
    "\n",
    "问：找出iris_2d是否有任何缺失值\n",
    "\n",
    "输入： \n",
    "\n",
    "```url = 'https://archive.ics.uci.edu/ml/machine-learning-databases/iris/iris.data'\n",
    "iris_2d = np.genfromtxt(url, delimiter=',', dtype='float', usecols=[0,1,2,3])```"
   ]
  },
  {
   "cell_type": "code",
   "execution_count": 268,
   "metadata": {},
   "outputs": [
    {
     "data": {
      "text/plain": [
       "False"
      ]
     },
     "execution_count": 268,
     "metadata": {},
     "output_type": "execute_result"
    }
   ],
   "source": [
    "url = 'https://archive.ics.uci.edu/ml/machine-learning-databases/iris/iris.data'\n",
    "iris_2d = np.genfromtxt(url, delimiter=',', dtype='float', usecols=[0,1,2,3])\n",
    "\n",
    "np.any(np.isnan(iris_2d))#np.isnan(iris_2d).any()"
   ]
  },
  {
   "cell_type": "markdown",
   "metadata": {},
   "source": [
    "**38.如何在numpy数组中将所有缺失值替换为0？** \n",
    "\n",
    "难度等级：L2 \n",
    "\n",
    "问：numpy数组中，所有出现nan的都替换为0\n",
    "\n",
    "输入：\n",
    "\n",
    "```url = 'https://archive.ics.uci.edu/ml/machine-learning-databases/iris/iris.data'\n",
    "iris_2d = np.genfromtxt(url, delimiter=',', dtype='float', usecols=[0,1,2,3])\n",
    "iris_2d[np.random.randint(150, size=20), np.random.randint(4, size=20)] = np.nan```\n",
    "    \n"
   ]
  },
  {
   "cell_type": "code",
   "execution_count": 271,
   "metadata": {},
   "outputs": [
    {
     "data": {
      "text/plain": [
       "array([[5.1, 0. , 1.4, 0.2],\n",
       "       [4.9, 3. , 1.4, 0. ],\n",
       "       [4.7, 3.2, 1.3, 0.2],\n",
       "       [4.6, 3.1, 1.5, 0. ],\n",
       "       [0. , 3.6, 1.4, 0.2]])"
      ]
     },
     "execution_count": 271,
     "metadata": {},
     "output_type": "execute_result"
    }
   ],
   "source": [
    "url = 'https://archive.ics.uci.edu/ml/machine-learning-databases/iris/iris.data'\n",
    "iris_2d = np.genfromtxt(url, delimiter=',', dtype='float', usecols=[0,1,2,3])\n",
    "iris_2d[np.random.randint(150, size=20), np.random.randint(4, size=20)] = np.nan\n",
    "\n",
    "iris_2d[np.isnan(iris_2d)] = 0\n",
    "iris_2d[:5]"
   ]
  },
  {
   "cell_type": "markdown",
   "metadata": {},
   "source": [
    "**39.如何在numpy数组中查找唯一值的计数？** \n",
    "\n",
    "难度等级：L2 \n",
    "\n",
    "问：查找iris数据集species列的唯一值和唯一值的计数 \n",
    "\n",
    "输入： \n",
    "\n",
    "```url = 'https://archive.ics.uci.edu/ml/machine-learning-databases/iris/iris.data'\n",
    "iris = np.genfromtxt(url, delimiter=',', dtype='object')\n",
    "names = ('sepallength', 'sepalwidth', 'petallength', 'petalwidth', 'species')```"
   ]
  },
  {
   "cell_type": "code",
   "execution_count": 277,
   "metadata": {},
   "outputs": [
    {
     "data": {
      "text/plain": [
       "(array([b'Iris-setosa', b'Iris-versicolor', b'Iris-virginica'],\n",
       "       dtype=object), array([50, 50, 50], dtype=int64))"
      ]
     },
     "execution_count": 277,
     "metadata": {},
     "output_type": "execute_result"
    }
   ],
   "source": [
    "url = 'https://archive.ics.uci.edu/ml/machine-learning-databases/iris/iris.data'\n",
    "iris = np.genfromtxt(url, delimiter=',', dtype='object')\n",
    "names = ('sepallength', 'sepalwidth', 'petallength', 'petalwidth', 'species')\n",
    "\n",
    "species = iris[:,4]\n",
    "#species = np.array([row.tolist()[4] for row in iris])\n",
    "\n",
    "np.unique(species, return_counts=True)"
   ]
  },
  {
   "cell_type": "markdown",
   "metadata": {},
   "source": [
    "**40.如何将数字转换为分类（文本）数组？** \n",
    "\n",
    "难度等级：L2 \n",
    "\n",
    "问：对iris_2d的花瓣长度（第3列）进行装箱以形成文本数组，例如，如果花瓣长度为：\n",
    "\n",
    "少于3->'小'\n",
    "\n",
    "3-5->'中等'\n",
    "\n",
    "'> = 5->'大' \n",
    "\n",
    "\n",
    "输入： \n",
    "\n",
    "```url = 'https://archive.ics.uci.edu/ml/machine-learning-databases/iris/iris.data'\n",
    "iris = np.genfromtxt(url, delimiter=',', dtype='object')\n",
    "names = ('sepallength', 'sepalwidth', 'petallength', 'petalwidth', 'species')```"
   ]
  },
  {
   "cell_type": "code",
   "execution_count": 287,
   "metadata": {},
   "outputs": [
    {
     "data": {
      "text/plain": [
       "['small',\n",
       " 'small',\n",
       " 'small',\n",
       " 'small',\n",
       " 'small',\n",
       " 'small',\n",
       " 'small',\n",
       " 'small',\n",
       " 'small',\n",
       " 'small']"
      ]
     },
     "execution_count": 287,
     "metadata": {},
     "output_type": "execute_result"
    }
   ],
   "source": [
    "url = 'https://archive.ics.uci.edu/ml/machine-learning-databases/iris/iris.data'\n",
    "iris = np.genfromtxt(url, delimiter=',', dtype='object')\n",
    "\n",
    "# Bin petallength \n",
    "petal_length_bin = np.digitize(iris[:, 2].astype('float'), [0, 3, 5, 10])\n",
    "\n",
    "# Map it to respective category\n",
    "label_map = {1: 'small', 2: 'medium', 3: 'large', 4: np.nan}\n",
    "petal_length_cat = [label_map[x] for x in petal_length_bin]\n",
    "\n",
    "# View\n",
    "petal_length_cat[:10]\n"
   ]
  },
  {
   "cell_type": "markdown",
   "metadata": {},
   "source": [
    "**41.如何从一个numpy数组的现有列中创建一个新列？** \n",
    "\n",
    "难度等级：L2 \n",
    "\n",
    "问：在iris_2d中创建一个新列volume，其中volume的创建方式为 (pi * petallength * sepal_length^2)/3 \n",
    "\n",
    "输入：\n",
    "\n",
    "```url = 'https://archive.ics.uci.edu/ml/machine-learning-databases/iris/iris.data'\n",
    "iris_2d = np.genfromtxt(url, delimiter=',', dtype='object')\n",
    "names = ('sepallength', 'sepalwidth', 'petallength', 'petalwidth', 'species')```"
   ]
  },
  {
   "cell_type": "code",
   "execution_count": 303,
   "metadata": {},
   "outputs": [
    {
     "data": {
      "text/plain": [
       "array([[b'5.1', b'3.5', b'1.4', b'0.2', b'Iris-setosa',\n",
       "        38.13265162927291],\n",
       "       [b'4.9', b'3.0', b'1.4', b'0.2', b'Iris-setosa',\n",
       "        35.200498485922445],\n",
       "       [b'4.7', b'3.2', b'1.3', b'0.2', b'Iris-setosa', 30.0723720777127],\n",
       "       [b'4.6', b'3.1', b'1.5', b'0.2', b'Iris-setosa',\n",
       "        33.238050274980004],\n",
       "       [b'5.0', b'3.6', b'1.4', b'0.2', b'Iris-setosa',\n",
       "        36.65191429188092]], dtype=object)"
      ]
     },
     "execution_count": 303,
     "metadata": {},
     "output_type": "execute_result"
    }
   ],
   "source": [
    "url = 'https://archive.ics.uci.edu/ml/machine-learning-databases/iris/iris.data'\n",
    "iris_2d = np.genfromtxt(url, delimiter=',', dtype='object')\n",
    "\n",
    "sepallength = iris_2d[:, 0].astype('float')\n",
    "petallength = iris_2d[:, 2].astype('float')\n",
    "\n",
    "#计算volume的值\n",
    "volume = (np.pi * petallength * sepallength**2)/3\n",
    "\n",
    "#将volume转换成2维，以匹配iris_2d的维数\n",
    "#方法1：\n",
    "volume_2d = np.tile(volume, (1,1)).reshape(-1,1)\n",
    "#方法2：\n",
    "#volume = volume[:, np.newaxis]\n",
    "\n",
    "#纵向堆叠两个数组\n",
    "new = np.hstack([iris_2d, volume_2d])\n",
    "new[:5]"
   ]
  },
  {
   "cell_type": "markdown",
   "metadata": {},
   "source": [
    "**42.如何在numpy中进行概率抽样？** \n",
    "\n",
    "难度等级：L3 \n",
    "\n",
    "Q.随机抽取iris的类别(species列)样本，使得setose类的数量是versicolor和virginica的和。\n",
    "类别有：[b'Iris-setosa', b'Iris-versicolor', b'Iris-virginica']\n",
    "\n",
    "输入： \n",
    "\n",
    "```url = 'https://archive.ics.uci.edu/ml/machine-learning-databases/iris/iris.data'\n",
    "iris = np.genfromtxt(url, delimiter=',', dtype='object')\n",
    "names = ('sepallength', 'sepalwidth', 'petallength', 'petalwidth', 'species')```"
   ]
  },
  {
   "cell_type": "code",
   "execution_count": 320,
   "metadata": {},
   "outputs": [
    {
     "name": "stdout",
     "output_type": "stream",
     "text": [
      "[ 59  28  42 119   1  12  84 115  14  65 128  21  19  11  22 145 112  17\n",
      " 113  27  43 138 114  33  18  37   1  25 109   2  70  71  11  38   4 128\n",
      " 146   6 128  65  98  76  66   3  21  59 104  25  29 120 145 127  36  70\n",
      "  35  34  18  24   5  51  37  69  76  14 136 139  70  39  36  21  28  25\n",
      "  18 143 141  70  96  34  10  46  52   9  56 148  39  33 111 101  31  77\n",
      "  58  30  11  31  45  82  25  78  20  81 106 106  72  31  89 122  75 146\n",
      " 145  17   3  16 134 140  21  36  60  27  46  89  50  93  55   1  39  49\n",
      "  40  35  50  44   9  27 138   3   4  28  67 148 148 148  11  83  55  17\n",
      " 138  24 149  67  18  38]\n",
      "[b'Iris-versicolor' b'Iris-setosa' b'Iris-setosa' b'Iris-virginica'\n",
      " b'Iris-setosa' b'Iris-setosa' b'Iris-versicolor' b'Iris-virginica'\n",
      " b'Iris-setosa' b'Iris-versicolor' b'Iris-virginica' b'Iris-setosa'\n",
      " b'Iris-setosa' b'Iris-setosa' b'Iris-setosa' b'Iris-virginica'\n",
      " b'Iris-virginica' b'Iris-setosa' b'Iris-virginica' b'Iris-setosa'\n",
      " b'Iris-setosa' b'Iris-virginica' b'Iris-virginica' b'Iris-setosa'\n",
      " b'Iris-setosa' b'Iris-setosa' b'Iris-setosa' b'Iris-setosa'\n",
      " b'Iris-virginica' b'Iris-setosa' b'Iris-versicolor' b'Iris-versicolor'\n",
      " b'Iris-setosa' b'Iris-setosa' b'Iris-setosa' b'Iris-virginica'\n",
      " b'Iris-virginica' b'Iris-setosa' b'Iris-virginica' b'Iris-versicolor'\n",
      " b'Iris-versicolor' b'Iris-versicolor' b'Iris-versicolor' b'Iris-setosa'\n",
      " b'Iris-setosa' b'Iris-versicolor' b'Iris-virginica' b'Iris-setosa'\n",
      " b'Iris-setosa' b'Iris-virginica' b'Iris-virginica' b'Iris-virginica'\n",
      " b'Iris-setosa' b'Iris-versicolor' b'Iris-setosa' b'Iris-setosa'\n",
      " b'Iris-setosa' b'Iris-setosa' b'Iris-setosa' b'Iris-versicolor'\n",
      " b'Iris-setosa' b'Iris-versicolor' b'Iris-versicolor' b'Iris-setosa'\n",
      " b'Iris-virginica' b'Iris-virginica' b'Iris-versicolor' b'Iris-setosa'\n",
      " b'Iris-setosa' b'Iris-setosa' b'Iris-setosa' b'Iris-setosa'\n",
      " b'Iris-setosa' b'Iris-virginica' b'Iris-virginica' b'Iris-versicolor'\n",
      " b'Iris-versicolor' b'Iris-setosa' b'Iris-setosa' b'Iris-setosa'\n",
      " b'Iris-versicolor' b'Iris-setosa' b'Iris-versicolor' b'Iris-virginica'\n",
      " b'Iris-setosa' b'Iris-setosa' b'Iris-virginica' b'Iris-virginica'\n",
      " b'Iris-setosa' b'Iris-versicolor' b'Iris-versicolor' b'Iris-setosa'\n",
      " b'Iris-setosa' b'Iris-setosa' b'Iris-setosa' b'Iris-versicolor'\n",
      " b'Iris-setosa' b'Iris-versicolor' b'Iris-setosa' b'Iris-versicolor'\n",
      " b'Iris-virginica' b'Iris-virginica' b'Iris-versicolor' b'Iris-setosa'\n",
      " b'Iris-versicolor' b'Iris-virginica' b'Iris-versicolor' b'Iris-virginica'\n",
      " b'Iris-virginica' b'Iris-setosa' b'Iris-setosa' b'Iris-setosa'\n",
      " b'Iris-virginica' b'Iris-virginica' b'Iris-setosa' b'Iris-setosa'\n",
      " b'Iris-versicolor' b'Iris-setosa' b'Iris-setosa' b'Iris-versicolor'\n",
      " b'Iris-versicolor' b'Iris-versicolor' b'Iris-versicolor' b'Iris-setosa'\n",
      " b'Iris-setosa' b'Iris-setosa' b'Iris-setosa' b'Iris-setosa'\n",
      " b'Iris-versicolor' b'Iris-setosa' b'Iris-setosa' b'Iris-setosa'\n",
      " b'Iris-virginica' b'Iris-setosa' b'Iris-setosa' b'Iris-setosa'\n",
      " b'Iris-versicolor' b'Iris-virginica' b'Iris-virginica' b'Iris-virginica'\n",
      " b'Iris-setosa' b'Iris-versicolor' b'Iris-versicolor' b'Iris-setosa'\n",
      " b'Iris-virginica' b'Iris-setosa' b'Iris-virginica' b'Iris-versicolor'\n",
      " b'Iris-setosa' b'Iris-setosa']\n",
      "(array([b'Iris-setosa', b'Iris-versicolor', b'Iris-virginica'],\n",
      "      dtype=object), array([77, 37, 36], dtype=int64))\n"
     ]
    }
   ],
   "source": [
    "url = 'https://archive.ics.uci.edu/ml/machine-learning-databases/iris/iris.data'\n",
    "iris = np.genfromtxt(url, delimiter=',', dtype='object')\n",
    "names = ('sepallength', 'sepalwidth', 'petallength', 'petalwidth', 'species')\n",
    "\n",
    "species = iris[:,4]\n",
    "#print(species[:5])\n",
    "\n",
    "#方法1：\n",
    "a = np.array([b'Iris-setosa', b'Iris-versicolor', b'Iris-virginica'])\n",
    "sample = np.random.choice(a, 150, p=[0.5, 0.25, 0.25])\n",
    "#print(sample)\n",
    "\n",
    "#方法2：???\n",
    "np.random.seed(100)\n",
    "probs = np.r_[np.linspace(0, 0.500, num=50), np.linspace(0.501, .750, num=50), np.linspace(.751, 1.0, num=50)]\n",
    "index = np.searchsorted(probs, np.random.random(150))\n",
    "print(index)\n",
    "species_out = species[index]\n",
    "print(species_out)\n",
    "print(np.unique(species_out, return_counts=True))"
   ]
  },
  {
   "cell_type": "markdown",
   "metadata": {},
   "source": [
    "**43.当被另一个数组分组时，如何获得第二个最大值？** \n",
    "\n",
    "难度等级：L2 \n",
    " \n",
    "问：物种setosa的petallength第二长是多少？\n",
    "\n",
    "输入： \n",
    "\n",
    "```url = 'https://archive.ics.uci.edu/ml/machine-learning-databases/iris/iris.data'\n",
    "iris = np.genfromtxt(url, delimiter=',', dtype='object')\n",
    "names = ('sepallength', 'sepalwidth', 'petallength', 'petalwidth', 'species')```"
   ]
  },
  {
   "cell_type": "code",
   "execution_count": 336,
   "metadata": {},
   "outputs": [
    {
     "data": {
      "text/plain": [
       "b'1.7'"
      ]
     },
     "execution_count": 336,
     "metadata": {},
     "output_type": "execute_result"
    }
   ],
   "source": [
    "url = 'https://archive.ics.uci.edu/ml/machine-learning-databases/iris/iris.data'\n",
    "iris = np.genfromtxt(url, delimiter=',', dtype='object')\n",
    "\n",
    "petal_len_setosa = iris[iris[:,4] == b'Iris-setosa',[2]]\n",
    "np.unique(petal_len_setosa)[-2]"
   ]
  },
  {
   "cell_type": "markdown",
   "metadata": {},
   "source": [
    "**44.如何按列对二维数组排序** \n",
    "\n",
    "难度等级：L2 \n",
    " \n",
    "问：根据sepallength列对iris数据集进行排序\n",
    "\n",
    "```url = 'https://archive.ics.uci.edu/ml/machine-learning-databases/iris/iris.data'\n",
    "iris = np.genfromtxt(url, delimiter=',', dtype='object')\n",
    "names = ('sepallength', 'sepalwidth', 'petallength', 'petalwidth', 'species')```"
   ]
  },
  {
   "cell_type": "code",
   "execution_count": 337,
   "metadata": {},
   "outputs": [
    {
     "data": {
      "text/plain": [
       "array([[b'4.3', b'3.0', b'1.1', b'0.1', b'Iris-setosa'],\n",
       "       [b'4.4', b'3.2', b'1.3', b'0.2', b'Iris-setosa'],\n",
       "       [b'4.4', b'3.0', b'1.3', b'0.2', b'Iris-setosa'],\n",
       "       [b'4.4', b'2.9', b'1.4', b'0.2', b'Iris-setosa']], dtype=object)"
      ]
     },
     "execution_count": 337,
     "metadata": {},
     "output_type": "execute_result"
    }
   ],
   "source": [
    "url = 'https://archive.ics.uci.edu/ml/machine-learning-databases/iris/iris.data'\n",
    "iris = np.genfromtxt(url, delimiter=',', dtype='object')\n",
    "names = ('sepallength', 'sepalwidth', 'petallength', 'petalwidth', 'species')\n",
    "\n",
    "iris[np.argsort(iris[:,0])][:4]"
   ]
  },
  {
   "cell_type": "markdown",
   "metadata": {},
   "source": [
    "**45.如何在numpy数组中查找最频繁的值？** \n",
    "\n",
    "难度等级：L1 \n",
    "\n",
    "问：在iris数据集中找到最常见的花瓣长度值（第3列）\n",
    "\n",
    "输入：\n",
    "\n",
    "```url = 'https://archive.ics.uci.edu/ml/machine-learning-databases/iris/iris.data'\n",
    "iris = np.genfromtxt(url, delimiter=',', dtype='object')\n",
    "names = ('sepallength', 'sepalwidth', 'petallength', 'petalwidth', 'species')```"
   ]
  },
  {
   "cell_type": "code",
   "execution_count": 344,
   "metadata": {},
   "outputs": [
    {
     "name": "stdout",
     "output_type": "stream",
     "text": [
      "b'1.5'\n"
     ]
    }
   ],
   "source": [
    "url = 'https://archive.ics.uci.edu/ml/machine-learning-databases/iris/iris.data'\n",
    "iris = np.genfromtxt(url, delimiter=',', dtype='object')\n",
    "\n",
    "vals, counts = np.unique(iris[:,2], return_counts=True)\n",
    "#print(vals, counts)\n",
    "print(vals[np.argmax(counts)])"
   ]
  },
  {
   "cell_type": "markdown",
   "metadata": {},
   "source": [
    "**46.如何找到第一次出现的值大于给定值的位置？** \n",
    "\n",
    "难度等级：L2 \n",
    "\n",
    "问：iris数据集第4列的花瓣宽度第一次出现的值大于1.0的位置 \n",
    "\n",
    "输入： \n",
    "\n",
    "```url = 'https://archive.ics.uci.edu/ml/machine-learning-databases/iris/iris.data'\n",
    "iris = np.genfromtxt(url, delimiter=',', dtype='object')```"
   ]
  },
  {
   "cell_type": "code",
   "execution_count": 351,
   "metadata": {},
   "outputs": [
    {
     "data": {
      "text/plain": [
       "array([50], dtype=int64)"
      ]
     },
     "execution_count": 351,
     "metadata": {},
     "output_type": "execute_result"
    }
   ],
   "source": [
    "url = 'https://archive.ics.uci.edu/ml/machine-learning-databases/iris/iris.data'\n",
    "iris = np.genfromtxt(url, delimiter=',', dtype='object')\n",
    "\n",
    "np.argwhere(iris[:, 3].astype('float') > 1.0)[0]"
   ]
  },
  {
   "cell_type": "markdown",
   "metadata": {},
   "source": [
    "**47.如何将大于给定值的所有值替换为给定截止值？** \n",
    "\n",
    "难度等级：L2 \n",
    "\n",
    "问：将数组a中所有大于30替换成30，小于10的值替换10，即按照给定值进行截断\n",
    "\n",
    "输入：\n",
    "\n",
    "```np.random.seed(100)\n",
    "a = np.random.uniform(1,50, 20)```"
   ]
  },
  {
   "cell_type": "code",
   "execution_count": 355,
   "metadata": {},
   "outputs": [
    {
     "data": {
      "text/plain": [
       "array([27.62684215, 14.64009987, 21.80136195, 30.        , 10.        ,\n",
       "       10.        , 30.        , 30.        , 10.        , 29.17957314,\n",
       "       30.        , 11.25090398, 10.08108276, 10.        , 11.76517714,\n",
       "       30.        , 30.        , 10.        , 30.        , 14.42961361])"
      ]
     },
     "execution_count": 355,
     "metadata": {},
     "output_type": "execute_result"
    }
   ],
   "source": [
    "np.random.seed(100)\n",
    "a = np.random.uniform(1,50, 20)\n",
    "\n",
    "#方法1：\n",
    "np.where(a < 10,10,(np.where(a > 30,30,a)))\n",
    "\n",
    "#方法2：\n",
    "np.clip(a, a_min=10, a_max=30)\n"
   ]
  },
  {
   "cell_type": "markdown",
   "metadata": {},
   "source": [
    "**48.如何从一个numpy数组中获取最高值的位置？** \n",
    "\n",
    "难度等级：L2 \n",
    "\n",
    "问：获取给定数组a中前5个最大值的位置 \n",
    "\n",
    "```np.random.seed(100)\n",
    "a = np.random.uniform(1,50, 20)```"
   ]
  },
  {
   "cell_type": "code",
   "execution_count": 377,
   "metadata": {},
   "outputs": [
    {
     "name": "stdout",
     "output_type": "stream",
     "text": [
      "[18  7  3 10 15]\n"
     ]
    }
   ],
   "source": [
    "np.random.seed(100)\n",
    "a = np.random.uniform(1,50, 20)\n",
    "print(np.argsort(a)[-5:])\n",
    "\n",
    "# Below methods will get you the values.\n",
    "# Method 1:\n",
    "#a[a.argsort()][-5:]\n",
    "\n",
    "# Method 2:\n",
    "#np.sort(a)[-5:]\n",
    "\n",
    "# Method 3:\n",
    "#np.partition(a, kth=-5)[-5:]\n",
    "\n",
    "# Method 4:\n",
    "#a[np.argpartition(-a, 5)][:5]"
   ]
  },
  {
   "cell_type": "markdown",
   "metadata": {},
   "source": [
    "**49.如何计算数组中所有可能值的按行计数？** \n",
    "\n",
    "难度等级：L4 \n",
    "\n",
    "问：按行计算唯一值的计数 \n",
    "\n",
    "输入：\n",
    "\n",
    "/<code>\n",
    "np.random.seed(100)\n",
    "arr = np.random.randint(1,11,size=(6, 10))\n",
    "arr\n",
    "> array([[ 9,  9,  4,  8,  8,  1,  5,  3,  6,  3],\n",
    ">        [ 3,  3,  2,  1,  9,  5,  1, 10,  7,  3],\n",
    ">        [ 5,  2,  6,  4,  5,  5,  4,  8,  2,  2],\n",
    ">        [ 8,  8,  1,  3, 10, 10,  4,  3,  6,  9],\n",
    ">        [ 2,  1,  8,  7,  3,  1,  9,  3,  6,  2],\n",
    ">        [ 9,  2,  6,  5,  3,  9,  4,  6,  1, 10]])\n",
    "\n",
    "期望的输出：\n",
    "\n",
    "> [[1, 0, 2, 1, 1, 1, 0, 2, 2, 0],\n",
    ">  [2, 1, 3, 0, 1, 0, 1, 0, 1, 1],\n",
    ">  [0, 3, 0, 2, 3, 1, 0, 1, 0, 0],\n",
    ">  [1, 0, 2, 1, 0, 1, 0, 2, 1, 2],\n",
    ">  [2, 2, 2, 0, 0, 1, 1, 1, 1, 0],\n",
    ">  [1, 1, 1, 1, 1, 2, 0, 0, 2, 1]]\n",
    "/</code> \n",
    "\n",
    "输出包含10列，代表1到10之间的数字。值是相应行中数字的计数。 \n",
    "\n",
    "例如，Cell（0,2）的值为2，这意味着数字3在第一行中恰好出现了2次。"
   ]
  },
  {
   "cell_type": "code",
   "execution_count": 393,
   "metadata": {},
   "outputs": [
    {
     "name": "stdout",
     "output_type": "stream",
     "text": [
      "[ 1  2  3  4  5  6  7  8  9 10]\n"
     ]
    },
    {
     "data": {
      "text/plain": [
       "[[1, 0, 2, 1, 1, 1, 0, 2, 2, 0],\n",
       " [2, 1, 3, 0, 1, 0, 1, 0, 1, 1],\n",
       " [0, 3, 0, 2, 3, 1, 0, 1, 0, 0],\n",
       " [1, 0, 2, 1, 0, 1, 0, 2, 1, 2],\n",
       " [2, 2, 2, 0, 0, 1, 1, 1, 1, 0],\n",
       " [1, 1, 1, 1, 1, 2, 0, 0, 2, 1]]"
      ]
     },
     "execution_count": 393,
     "metadata": {},
     "output_type": "execute_result"
    }
   ],
   "source": [
    "np.random.seed(100)\n",
    "arr = np.random.randint(1,11,size=(6, 10))\n",
    "# Solution\n",
    "def counts_of_all_values_rowwise(arr2d):\n",
    "    # Unique values and its counts row wise\n",
    "    num_counts_array = [np.unique(row, return_counts=True) for row in arr2d]\n",
    "    #print(f\"num_counts_array->{num_counts_array}\")\n",
    "\n",
    "    # Counts of all values row wise\n",
    "    return([[int(b[a==i]) if i in a else 0 for i in np.unique(arr2d)] for a, b in num_counts_array])\n",
    "\n",
    "# Print\n",
    "print(np.arange(1,11))\n",
    "counts_of_all_values_rowwise(arr)\n",
    "\n",
    "#for i in np.unique(arr):\n",
    "#    print(i)"
   ]
  },
  {
   "cell_type": "markdown",
   "metadata": {},
   "source": [
    "**50.如何将数组转换为平面一维数组？** \n",
    "\n",
    "难度等级：2 \n",
    "\n",
    "问：将array_of_arrays转换为平面线性一维数组 \n",
    "\n",
    "输入: \n",
    "\n",
    "\n",
    "```arr1 = np.arange(3)\n",
    "arr2 = np.arange(3,7)\n",
    "arr3 = np.arange(7,10)\n",
    "\n",
    "array_of_arrays = np.array([arr1, arr2, arr3])\n",
    "array_of_arrays\n",
    "#> array([array([0, 1, 2]), array([3, 4, 5, 6]), array([7, 8, 9])], dtype=object)\n",
    "``` \n",
    "\n",
    "期望的输出：\n",
    "\n",
    "`#> array([0, 1, 2, 3, 4, 5, 6, 7, 8, 9])"
   ]
  },
  {
   "cell_type": "code",
   "execution_count": 394,
   "metadata": {},
   "outputs": [
    {
     "name": "stdout",
     "output_type": "stream",
     "text": [
      "array_of_arrays:  [array([0, 1, 2]) array([3, 4, 5, 6]) array([7, 8, 9])]\n",
      "[0 1 2 3 4 5 6 7 8 9]\n"
     ]
    },
    {
     "name": "stderr",
     "output_type": "stream",
     "text": [
      "c:\\users\\ifcreate-06\\appdata\\local\\programs\\python\\python37\\lib\\site-packages\\ipykernel_launcher.py:6: VisibleDeprecationWarning: Creating an ndarray from ragged nested sequences (which is a list-or-tuple of lists-or-tuples-or ndarrays with different lengths or shapes) is deprecated. If you meant to do this, you must specify 'dtype=object' when creating the ndarray.\n",
      "  \n"
     ]
    }
   ],
   "source": [
    " # Input:\n",
    "arr1 = np.arange(3)\n",
    "arr2 = np.arange(3,7)\n",
    "arr3 = np.arange(7,10)\n",
    "\n",
    "array_of_arrays = np.array([arr1, arr2, arr3])\n",
    "print('array_of_arrays: ', array_of_arrays)\n",
    "\n",
    "# Solution 1\n",
    "arr_2d = np.array([a for arr in array_of_arrays for a in arr])\n",
    "\n",
    "# Solution 2:\n",
    "arr_2d = np.concatenate(array_of_arrays)\n",
    "print(arr_2d)"
   ]
  },
  {
   "cell_type": "markdown",
   "metadata": {},
   "source": [
    "**51.如何在numpy中为数组生成one-hot编码？** \n",
    "\n",
    "难度等级L4 \n",
    "\n",
    "问：进行one-hot编码（数组中每个唯一值的虚拟二进制变量）\n",
    "\n",
    "输入：\n",
    "\n",
    "```np.random.seed(101) \n",
    "arr = np.random.randint(1,4, size=6)\n",
    "arr\n",
    "#> array([2, 3, 2, 2, 2, 1])``` \n",
    "\n",
    "输出：\n",
    "\n",
    "```#> array([[ 0.,  1.,  0.],\n",
    "#>        [ 0.,  0.,  1.],\n",
    "#>        [ 0.,  1.,  0.],\n",
    "#>        [ 0.,  1.,  0.],\n",
    "#>        [ 0.,  1.,  0.],\n",
    "#>        [ 1.,  0.,  0.]])```"
   ]
  },
  {
   "cell_type": "code",
   "execution_count": 428,
   "metadata": {},
   "outputs": [
    {
     "name": "stdout",
     "output_type": "stream",
     "text": [
      "[2 3 2 2 2 1]\n",
      "[[0. 1. 0.]\n",
      " [0. 0. 1.]\n",
      " [0. 1. 0.]\n",
      " [0. 1. 0.]\n",
      " [0. 1. 0.]\n",
      " [1. 0. 0.]]\n",
      "[[False  True False]\n",
      " [False False  True]\n",
      " [False  True False]\n",
      " [False  True False]\n",
      " [False  True False]\n",
      " [ True False False]]\n"
     ]
    }
   ],
   "source": [
    "np.random.seed(101)\n",
    "arr = np.random.randint(1,4, size=6)\n",
    "#print(arr.shape)\n",
    "\n",
    "#方法1： \n",
    "def gen_one_hot(arr):\n",
    "    print(arr)\n",
    "    uniqs = np.unique(arr)\n",
    "    out = np.zeros((arr.shape[0],uniqs.shape[0]))\n",
    "    i = 0\n",
    "    for row in out:\n",
    "        row[arr[i]-1] = 1\n",
    "        i+=1\n",
    "    return out\n",
    "print(gen_one_hot(arr))\n",
    "\n",
    "#方法2：\n",
    "def one_hot_encodings(arr):\n",
    "    uniqs = np.unique(arr)\n",
    "    out = np.zeros((arr.shape[0], uniqs.shape[0]))\n",
    "    for i, k in enumerate(arr):\n",
    "        out[i, k-1] = 1\n",
    "    return out\n",
    "# 方法3:\n",
    "(arr[:, None] == np.unique(arr)).view(np.int8)\n",
    "print(arr[:, None] == np.unique(arr))"
   ]
  },
  {
   "cell_type": "markdown",
   "metadata": {},
   "source": [
    "**52.如何创建按类别变量分组的行号？** \n",
    "\n",
    "难度等级：L3 \n",
    "\n",
    "问：创建按类别变量分组的行号。使用以下示例iris species作为输入。\n",
    "\n",
    "输入：\n",
    "\n",
    "```\n",
    "url = 'https://archive.ics.uci.edu/ml/machine-learning-databases/iris/iris.data'\n",
    "species = np.genfromtxt(url, delimiter=',', dtype='str', usecols=4)\n",
    "species_small = np.sort(np.random.choice(species, size=20))\n",
    "species_small\n",
    "array(['Iris-setosa', 'Iris-setosa', 'Iris-setosa', 'Iris-setosa',\n",
    "        'Iris-setosa', 'Iris-setosa', 'Iris-versicolor', 'Iris-versicolor',\n",
    "        'Iris-versicolor', 'Iris-versicolor', 'Iris-versicolor',\n",
    "        'Iris-versicolor', 'Iris-virginica', 'Iris-virginica',\n",
    "        'Iris-virginica', 'Iris-virginica', 'Iris-virginica',\n",
    "        'Iris-virginica', 'Iris-virginica', 'Iris-virginica'],\n",
    "       dtype='<U15')\n",
    "``` \n",
    "    \n",
    "期望的输出：\n",
    "\n",
    "#> [0, 1, 2, 3, 4, 5, 0, 1, 2, 3, 4, 5, 0, 1, 2, 3, 4, 5, 6, 7]"
   ]
  },
  {
   "cell_type": "code",
   "execution_count": 432,
   "metadata": {},
   "outputs": [
    {
     "name": "stdout",
     "output_type": "stream",
     "text": [
      "['Iris-setosa' 'Iris-setosa' 'Iris-setosa' 'Iris-setosa' 'Iris-setosa'\n",
      " 'Iris-versicolor' 'Iris-versicolor' 'Iris-versicolor' 'Iris-versicolor'\n",
      " 'Iris-versicolor' 'Iris-versicolor' 'Iris-versicolor' 'Iris-versicolor'\n",
      " 'Iris-versicolor' 'Iris-virginica' 'Iris-virginica' 'Iris-virginica'\n",
      " 'Iris-virginica' 'Iris-virginica' 'Iris-virginica']\n",
      "[0, 1, 2, 3, 4, 0, 1, 2, 3, 4, 5, 6, 7, 8, 0, 1, 2, 3, 4, 5]\n"
     ]
    }
   ],
   "source": [
    "url = 'https://archive.ics.uci.edu/ml/machine-learning-databases/iris/iris.data'\n",
    "species = np.genfromtxt(url, delimiter=',', dtype='str', usecols=4)\n",
    "np.random.seed(100)\n",
    "species_small = np.sort(np.random.choice(species, size=20))\n",
    "print(species_small)\n",
    "print([i for val in np.unique(species_small) for i, grp in enumerate(species_small[species_small==val])])\n"
   ]
  },
  {
   "cell_type": "markdown",
   "metadata": {},
   "source": [
    "**53.如何基于给定的分类变量创建组ID？** \n",
    "\n",
    "难度等级：L4 \n",
    "\n",
    "问：根据给定的分类变量创建组ID。使用以下示例iris species作为输入。\n",
    "\n",
    "输入：\n",
    "\n",
    "```\n",
    "url = 'https://archive.ics.uci.edu/ml/machine-learning-databases/iris/iris.data'\n",
    "species = np.genfromtxt(url, delimiter=',', dtype='str', usecols=4)\n",
    "species_small = np.sort(np.random.choice(species, size=20))\n",
    "species_small\n",
    "#> array(['Iris-setosa', 'Iris-setosa', 'Iris-setosa', 'Iris-setosa',\n",
    "#>        'Iris-setosa', 'Iris-setosa', 'Iris-versicolor', 'Iris-versicolor',\n",
    "#>        'Iris-versicolor', 'Iris-versicolor', 'Iris-versicolor',\n",
    "#>        'Iris-versicolor', 'Iris-virginica', 'Iris-virginica',\n",
    "#>        'Iris-virginica', 'Iris-virginica', 'Iris-virginica',\n",
    "#>        'Iris-virginica', 'Iris-virginica', 'Iris-virginica'],\n",
    "#>       dtype='<U15')``` \n",
    "\n",
    "\n",
    "期望的输出：\n",
    "\n",
    "#> [0, 0, 0, 0, 0, 1, 1, 1, 1, 1, 1, 1, 1, 1, 2, 2, 2, 2, 2, 2]"
   ]
  },
  {
   "cell_type": "code",
   "execution_count": 455,
   "metadata": {},
   "outputs": [
    {
     "name": "stdout",
     "output_type": "stream",
     "text": [
      "['Iris-setosa' 'Iris-setosa' 'Iris-setosa' 'Iris-setosa' 'Iris-setosa'\n",
      " 'Iris-versicolor' 'Iris-versicolor' 'Iris-versicolor' 'Iris-versicolor'\n",
      " 'Iris-versicolor' 'Iris-versicolor' 'Iris-versicolor' 'Iris-versicolor'\n",
      " 'Iris-versicolor' 'Iris-virginica' 'Iris-virginica' 'Iris-virginica'\n",
      " 'Iris-virginica' 'Iris-virginica' 'Iris-virginica']\n",
      "[0, 0, 0, 0, 0, 1, 1, 1, 1, 1, 1, 1, 1, 1, 2, 2, 2, 2, 2, 2]\n"
     ]
    }
   ],
   "source": [
    "url = 'https://archive.ics.uci.edu/ml/machine-learning-databases/iris/iris.data'\n",
    "species = np.genfromtxt(url, delimiter=',', dtype='str', usecols=4)\n",
    "np.random.seed(100)\n",
    "species_small = np.sort(np.random.choice(species, size=20))\n",
    "print(species_small)\n",
    "uniqs = np.unique(species_small)\n",
    "out = []\n",
    "for species in species_small:\n",
    "    for uniq in uniqs:\n",
    "        if species == uniq:\n",
    "            out.append(np.argwhere(uniqs==species).tolist()[0][0])\n",
    "print(out)\n",
    "    "
   ]
  },
  {
   "cell_type": "markdown",
   "metadata": {},
   "source": [
    "**54.如何使用numpy对数组中的项目进行排名？** \n",
    "\n",
    "难度等级：L2 \n",
    "\n",
    "问：为给定的数组a创建等级\n",
    "\n",
    "输入：\n",
    "\n",
    "```\n",
    "np.random.seed(10)\n",
    "a = np.random.randint(20, size=10)\n",
    "print(a)\n",
    "#> [ 9  4 15  0 17 16 17  8  9  0]```\n",
    "\n",
    "期望的输出：\n",
    "\n",
    "[4 2 6 0 8 7 9 3 5 1]"
   ]
  },
  {
   "cell_type": "code",
   "execution_count": 463,
   "metadata": {},
   "outputs": [
    {
     "name": "stdout",
     "output_type": "stream",
     "text": [
      "[ 9  4 15  0 17 16 17  8  9  0]\n",
      "[4 2 6 0 8 7 9 3 5 1]\n"
     ]
    }
   ],
   "source": [
    "np.random.seed(10)\n",
    "a = np.random.randint(20, size=10)\n",
    "print(a)\n",
    "print(a.argsort().argsort())"
   ]
  },
  {
   "cell_type": "markdown",
   "metadata": {},
   "source": [
    "**55.如何使用numpy对多维数组中的项目进行排名？** \n",
    "\n",
    "难度等级：L3 \n",
    "\n",
    "问：创建与给定数值数组a形状相同的等级数组。\n",
    "\n",
    "输入：\n",
    "\n",
    "```np.random.seed(10)\n",
    "a = np.random.randint(20, size=[2,5])\n",
    "print(a)\n",
    "#> [[ 9  4 15  0 17]\n",
    "#>  [16 17  8  9  0]]```\n",
    "\n",
    "期望的输出：\n",
    "\n",
    "#> [[4 2 6 0 8]\n",
    "#>  [7 9 3 5 1]]"
   ]
  },
  {
   "cell_type": "code",
   "execution_count": 472,
   "metadata": {},
   "outputs": [
    {
     "name": "stdout",
     "output_type": "stream",
     "text": [
      "[[ 9  4 15  0 17]\n",
      " [16 17  8  9  0]]\n",
      "[[4 2 6 0 8]\n",
      " [7 9 3 5 1]]\n"
     ]
    }
   ],
   "source": [
    "np.random.seed(10)\n",
    "a = np.random.randint(20, size=[2,5])\n",
    "print(a)\n",
    "print(a.ravel().argsort().argsort().reshape(a.shape))"
   ]
  },
  {
   "cell_type": "markdown",
   "metadata": {},
   "source": [
    "**56.如何在2维numpy数组的每一行中找到最大值？** \n",
    "\n",
    "难度等级：L2 \n",
    "\n",
    "问：计算给定数组中每一行的最大值。\n",
    "\n",
    "```np.random.seed(100)\n",
    "a = np.random.randint(1,10, [5,3])\n",
    "a\n",
    "#> array([[9, 9, 4],\n",
    "#>        [8, 8, 1],\n",
    "#>        [5, 3, 6],\n",
    "#>        [3, 3, 3],\n",
    "#>        [2, 1, 9]])```"
   ]
  },
  {
   "cell_type": "code",
   "execution_count": 476,
   "metadata": {},
   "outputs": [
    {
     "name": "stdout",
     "output_type": "stream",
     "text": [
      "[[9 9 4]\n",
      " [8 8 1]\n",
      " [5 3 6]\n",
      " [3 3 3]\n",
      " [2 1 9]]\n",
      "[9 8 6 3 9]\n",
      "[9 8 6 3 9]\n",
      "[9 8 6 3 9]\n"
     ]
    }
   ],
   "source": [
    "np.random.seed(100)\n",
    "a = np.random.randint(1,10, [5,3])\n",
    "print(a)\n",
    "print(np.max(a,axis=1))\n",
    "\n",
    "# another Solution 1\n",
    "print(np.amax(a, axis=1))\n",
    "\n",
    "# another Solution 2\n",
    "print(np.apply_along_axis(np.max, arr=a, axis=1))\n",
    "#> array([9, 8, 6, 3, 9])"
   ]
  },
  {
   "cell_type": "markdown",
   "metadata": {},
   "source": [
    "**57.如何计算一个2维numpy数组的每一行的最小值与最大值之比？** \n",
    "\n",
    "难度等级：L3 \n",
    "\n",
    "问：为给定的2d numpy数组计算每行的最小值与最大值之比。\n",
    "\n",
    "\n",
    "```np.random.seed(100)\n",
    "a = np.random.randint(1,10, [5,3])\n",
    "a\n",
    "#> array([[9, 9, 4],\n",
    "#>        [8, 8, 1],\n",
    "#>        [5, 3, 6],\n",
    "#>        [3, 3, 3],\n",
    "#>        [2, 1, 9]])```"
   ]
  },
  {
   "cell_type": "code",
   "execution_count": 479,
   "metadata": {},
   "outputs": [
    {
     "name": "stdout",
     "output_type": "stream",
     "text": [
      "[[9 9 4]\n",
      " [8 8 1]\n",
      " [5 3 6]\n",
      " [3 3 3]\n",
      " [2 1 9]]\n",
      "[0.44444444 0.125      0.5        1.         0.11111111]\n"
     ]
    }
   ],
   "source": [
    "np.random.seed(100)\n",
    "a = np.random.randint(1,10, [5,3])\n",
    "print(a)\n",
    "\n",
    "print(np.apply_along_axis(lambda x:np.min(x)/np.max(x), arr=a, axis=1))"
   ]
  },
  {
   "cell_type": "markdown",
   "metadata": {},
   "source": [
    "**58.如何在numpy数组中查找重复记录？** \n",
    "\n",
    "难度等级：L3 \n",
    "\n",
    "问：在给定的numpy数组中找到重复的条目（第二次出现），并将其标记为True。第一次出现应该是False。\n",
    "\n",
    "输入： \n",
    "\n",
    "```np.random.seed(100)\n",
    "a = np.random.randint(0, 5, 10)\n",
    "print('Array: ', a)\n",
    "#> Array: [0 0 3 0 2 4 2 2 2 2]```\n",
    "\n",
    "期望的输出：\n",
    "\n",
    "#> [False  True False  True False False  True  True  True  True]"
   ]
  },
  {
   "cell_type": "code",
   "execution_count": 501,
   "metadata": {},
   "outputs": [
    {
     "name": "stdout",
     "output_type": "stream",
     "text": [
      "[ True  True  True  True  True  True  True  True  True  True]\n",
      "[0 4 2 5]\n",
      "[False  True False  True False False  True  True  True  True]\n"
     ]
    }
   ],
   "source": [
    "# Input\n",
    "np.random.seed(100)\n",
    "a = np.random.randint(0, 5, 10)\n",
    "\n",
    "## Solution\n",
    "# There is no direct function to do this as of 1.13.3\n",
    "\n",
    "# Create an all True array\n",
    "out = np.full(a.shape[0], True)\n",
    "print(out)\n",
    "\n",
    "# Find the index positions of unique elements\n",
    "unique_positions = np.unique(a, return_index=True)[1]\n",
    "print(unique_positions)\n",
    "\n",
    "# Mark those positions as False\n",
    "out[unique_positions] = False\n",
    "\n",
    "print(out)\n",
    "    "
   ]
  },
  {
   "cell_type": "markdown",
   "metadata": {},
   "source": [
    "**59.如何找到numpy中的分组均值？** \n",
    "\n",
    "难度等级:L3 \n",
    "\n",
    "问：在二维numpy数组中找到按类别列分组的数字列的均值\n",
    "\n",
    "输入：\n",
    "\n",
    "```url = 'https://archive.ics.uci.edu/ml/machine-learning-databases/iris/iris.data'\n",
    "iris = np.genfromtxt(url, delimiter=',', dtype='object')\n",
    "names = ('sepallength', 'sepalwidth', 'petallength', 'petalwidth', 'species')```\n",
    "\n",
    "期望的输出：\n",
    "\n",
    "``` [[b'Iris-setosa', 3.418],\n",
    " [b'Iris-versicolor', 2.770],\n",
    " [b'Iris-virginica', 2.974]]```"
   ]
  },
  {
   "cell_type": "code",
   "execution_count": 6,
   "metadata": {},
   "outputs": [
    {
     "name": "stdout",
     "output_type": "stream",
     "text": [
      "[b'Iris-setosa', 3.418]\n",
      "[b'Iris-versicolor', 2.7700000000000005]\n",
      "[b'Iris-virginica', 2.974]\n"
     ]
    }
   ],
   "source": [
    "url = 'https://archive.ics.uci.edu/ml/machine-learning-databases/iris/iris.data'\n",
    "iris = np.genfromtxt(url, delimiter=',', dtype='object')\n",
    "\n",
    "numeric_column = iris[:, 1].astype('float')  # sepalwidth\n",
    "grouping_column = iris[:, 4]  # species\n",
    "\n",
    "out = []\n",
    "for group_value in np.unique(grouping_column):\n",
    "    print([group_value,numeric_column[grouping_column==group_value].mean()])"
   ]
  },
  {
   "cell_type": "markdown",
   "metadata": {},
   "source": [
    "**60.如何将PIL图像转换为numpy数组?** \n",
    "\n",
    "难度等级：L3 \n",
    "\n",
    "问：从以下URL导入图像并将其转换为numpy数组。 \n",
    "\n",
    "网址='https://gimg2.baidu.com/image_search/src=http%3A%2F%2Ftrekandmountain.com%2Fwp-content%2Fuploads%2F2017%2F04%2FDenali-Alamy-web-1014x400.jpg&refer=http%3A%2F%2Ftrekandmountain.com&app=2002&size=f9999,10000&q=a80&n=0&g=0n&fmt=jpeg?sec=1624419757&t=881a756a8ddb880cbb4ee974dbdc2ac6'\n",
    "##'https://upload.wikimedia.org/wikipedia/commons/8/8b/Denali_Mt_McKinley.jpg'"
   ]
  },
  {
   "cell_type": "code",
   "execution_count": 19,
   "metadata": {},
   "outputs": [],
   "source": [
    "from io import BytesIO\n",
    "from PIL import Image\n",
    "import PIL, requests\n",
    "\n",
    "URL = 'https://gimg2.baidu.com/image_search/src=http%3A%2F%2Ftrekandmountain.com%2Fwp-content%2Fuploads%2F2017%2F04%2FDenali-Alamy-web-1014x400.jpg&refer=http%3A%2F%2Ftrekandmountain.com&app=2002&size=f9999,10000&q=a80&n=0&g=0n&fmt=jpeg?sec=1624419757&t=881a756a8ddb880cbb4ee974dbdc2ac6'\n",
    "response = requests.get(URL)\n",
    "\n",
    "# Read it as Image and resize to 150*150\n",
    "img = Image.open(BytesIO(response.content)).resize([150,150])\n",
    "#convert to numpy array\n",
    "arr = np.asarray(img)\n",
    "\n",
    "#convert it back to an image and show \n",
    "img_back = Image.fromarray(np.uint8(arr))\n",
    "Image.Image.show(img_back)"
   ]
  },
  {
   "cell_type": "markdown",
   "metadata": {},
   "source": [
    "**61.如何从numpy数组中删除所有缺少的值？** \n",
    "\n",
    "难度等级：L2 \n",
    "\n",
    "问：删除一维numpy数组中的所有nan值 \n",
    "\n",
    "输入：\n",
    "\n",
    "```\n",
    "np.array([1,2,3,np.nan,5,6,7,np.nan])``` \n",
    "\n",
    "\n",
    "期望的输出： \n",
    "```array([ 1.,  2.,  3.,  5.,  6.,  7.])```"
   ]
  },
  {
   "cell_type": "code",
   "execution_count": 21,
   "metadata": {},
   "outputs": [
    {
     "data": {
      "text/plain": [
       "array([1., 2., 3., 5., 6., 7.])"
      ]
     },
     "execution_count": 21,
     "metadata": {},
     "output_type": "execute_result"
    }
   ],
   "source": [
    "arr = np.array([1,2,3,np.nan,5,6,7,np.nan])\n",
    "arr[~np.isnan(arr)]"
   ]
  },
  {
   "cell_type": "markdown",
   "metadata": {},
   "source": [
    "**62.如何计算两个数组之间的欧式距离？** \n",
    "\n",
    "难度等级：L3 \n",
    "\n",
    "Q.计算两个numpy数组a和b之间的欧几里得距离。\n",
    "\n",
    "输入：\n",
    "\n",
    "a = np.array([1,2,3,4,5]) \n",
    "\n",
    "b = np.array([4,5,6,7,8])"
   ]
  },
  {
   "cell_type": "code",
   "execution_count": 26,
   "metadata": {},
   "outputs": [],
   "source": [
    "a = np.array([1,2,3,4,5])\n",
    "b = np.array([4,5,6,7,8])\n",
    "\n",
    "dist = np.linalg.norm(a-b)"
   ]
  },
  {
   "cell_type": "markdown",
   "metadata": {},
   "source": [
    "**63.如何找到一维数组中的所有局部最大值（或峰值）？** \n",
    "\n",
    "难度等级：L4 \n",
    "\n",
    "问：在一维numpy数组a中找到所有峰。峰值是两边都被较小值包围的点。\n",
    "\n",
    "输入：\n",
    "\n",
    "a = np.array([1, 3, 7, 1, 2, 6, 0, 1])\n",
    "\n",
    "期望的输出：\n",
    "\n",
    "#> array([2, 5])\n",
    "其中2和5是峰值7和6的位置。"
   ]
  },
  {
   "cell_type": "code",
   "execution_count": 42,
   "metadata": {},
   "outputs": [
    {
     "name": "stdout",
     "output_type": "stream",
     "text": [
      "[2, 5]\n"
     ]
    },
    {
     "data": {
      "text/plain": [
       "array([2, 5], dtype=int64)"
      ]
     },
     "execution_count": 42,
     "metadata": {},
     "output_type": "execute_result"
    }
   ],
   "source": [
    "a = np.array([1, 3, 7, 1, 2, 6, 0, 1])\n",
    "#方法一：\n",
    "location=[]\n",
    "for x in np.arange(len(a)-1) :\n",
    "    if (a[x-1]  < a[x]) and ( a[x] > a[x+1]):\n",
    "        location.append(x)\n",
    "print(location)\n",
    "\n",
    "#方法二：\n",
    "peak_locations = np.where(doublediff == -2)[0] + 1\n",
    "peak_locations"
   ]
  },
  {
   "cell_type": "markdown",
   "metadata": {},
   "source": [
    "## **64.如何从2d数组中减去1d数组，其中1d数组的每一项都从2d数组相应的行中减去？** \n",
    "\n",
    "难度等级：L2 \n",
    "\n",
    "问：从2d数组a_2d中减去1d数组b_1d，以便从a_2d的相应行中减去b_1d的每一项。\n",
    "\n",
    "```\n",
    "a_2d = np.array([[3,3,3],[4,4,4],[5,5,5]]) \n",
    "b_1d = np.array([1,2,3])```\n",
    "\n",
    "期望的输出：\n",
    "\n",
    "``` [[2 2 2]\n",
    " [2 2 2]\n",
    " [2 2 2]]```"
   ]
  },
  {
   "cell_type": "code",
   "execution_count": 58,
   "metadata": {},
   "outputs": [
    {
     "name": "stdout",
     "output_type": "stream",
     "text": [
      "[[2 2 2]\n",
      " [2 2 2]\n",
      " [2 2 2]]\n",
      "[[2 2 2]\n",
      " [2 2 2]\n",
      " [2 2 2]]\n"
     ]
    }
   ],
   "source": [
    "a_2d = np.array([[3,3,3],[4,4,4],[5,5,5]]) \n",
    "b_1d = np.array([1,2,3])\n",
    "print(a_2d - b_1d.reshape(-1,1))\n",
    "\n",
    "# Solution2\n",
    "print(a_2d - b_1d[:,None])"
   ]
  },
  {
   "cell_type": "markdown",
   "metadata": {},
   "source": [
    "**65.如何找到数组中第n个重复项的索引** \n",
    "\n",
    "难度等级:L2 \n",
    "\n",
    "问：在x中找到数字1的第5个重复的索引 \n",
    "\n",
    "x = np.array([1, 2, 1, 1, 3, 4, 3, 1, 1, 2, 1, 1, 2])"
   ]
  },
  {
   "cell_type": "code",
   "execution_count": 69,
   "metadata": {},
   "outputs": [
    {
     "name": "stdout",
     "output_type": "stream",
     "text": [
      "8\n",
      "8\n"
     ]
    }
   ],
   "source": [
    "x = np.array([1, 2, 1, 1, 3, 4, 3, 1, 1, 2, 1, 1, 2])\n",
    "n = 5\n",
    "#方法1：\n",
    "index = np.where(x==1)\n",
    "print(index[0][n-1])\n",
    "#方法2：\n",
    "res = [i for i, v in enumerate(x) if v == 1][n-1]\n",
    "print(res)"
   ]
  },
  {
   "cell_type": "markdown",
   "metadata": {},
   "source": [
    "**66.如何将numpy的datetime64对象转换为datetime的datetime对象？** \n",
    "\n",
    "难度等级：L2 \n",
    "\n",
    "问：将numpy的datetime64对象转换为datetime的datetime对象 \n",
    "\n",
    "输入: \n",
    "```a numpy datetime64 object \n",
    "dt64 = np.datetime64（'2018-02-25 22:10:10' ）```"
   ]
  },
  {
   "cell_type": "code",
   "execution_count": 77,
   "metadata": {},
   "outputs": [
    {
     "name": "stdout",
     "output_type": "stream",
     "text": [
      "2018-02-25 22:10:10\n",
      "2018-02-25 22:10:10\n"
     ]
    }
   ],
   "source": [
    "dt64 = np.datetime64('2018-02-25 22:10:10')\n",
    "from datetime import datetime\n",
    "print(dt64.tolist())\n",
    "\n",
    "#or\n",
    "print(dt64.astype(datetime))\n"
   ]
  },
  {
   "cell_type": "markdown",
   "metadata": {},
   "source": [
    "**67.如何计算一个numpy数组的移动平均值？** \n",
    "\n",
    "难度等级：L3 \n",
    "\n",
    "问：计算给定的一维数组的窗口大小3的移动平均值。\n",
    "\n",
    "输入：\n",
    "\n",
    "```\n",
    "np.random.seed(100) \n",
    "Z = np.random.randint(10, size=10)```"
   ]
  },
  {
   "cell_type": "code",
   "execution_count": 91,
   "metadata": {},
   "outputs": [
    {
     "name": "stdout",
     "output_type": "stream",
     "text": [
      "[8 8 3 7 7 0 4 2 5 2]\n",
      "[6.333333333333333, 6.0, 5.666666666666667, 4.666666666666667, 3.6666666666666665, 2.0, 3.6666666666666665, 3.0]\n",
      "array:  [8 8 3 7 7 0 4 2 5 2]\n"
     ]
    },
    {
     "data": {
      "text/plain": [
       "array([6.33333333, 6.        , 5.66666667, 4.66666667, 3.66666667,\n",
       "       2.        , 3.66666667, 3.        ])"
      ]
     },
     "execution_count": 91,
     "metadata": {},
     "output_type": "execute_result"
    }
   ],
   "source": [
    "np.random.seed(100) \n",
    "z = np.random.randint(10, size=10)\n",
    "print(z)\n",
    "n = 3\n",
    "res = []\n",
    "for i in np.arange(len(z)-(n-1)):\n",
    "    j = i+n\n",
    "    res.append(np.mean(z[i:j]))\n",
    "print(res)\n",
    "    \n",
    "# another Solution\n",
    "# Source: https://stackoverflow.com/questions/14313510/how-to-calculate-moving-average-using-numpy\n",
    "def moving_average(a, n=3) :\n",
    "    ret = np.cumsum(a, dtype=float)\n",
    "    ret[n:] = ret[n:] - ret[:-n]\n",
    "    return ret[n - 1:] / n\n",
    "\n",
    "np.random.seed(100)\n",
    "Z = np.random.randint(10, size=10)\n",
    "print('array: ', Z)\n",
    "# Method 1\n",
    "moving_average(Z, n=3).round(2)\n",
    "# Method 2:  # Thanks AlanLRH!\n",
    "# np.ones(3)/3 gives equal weights. Use np.ones(4)/4 for window size 4.\n",
    "np.convolve(Z, np.ones(3)/3, mode='valid')"
   ]
  },
  {
   "cell_type": "markdown",
   "metadata": {},
   "source": [
    "**68.如何仅给出起点，长度和步长来创建一个numpy数组序列？** \n",
    "\n",
    "难度等级：L2 \n",
    "\n",
    "问：创建一个长度为10的numpy数组，从5开始，连续数字之间的步长为3 \n"
   ]
  },
  {
   "cell_type": "code",
   "execution_count": 92,
   "metadata": {},
   "outputs": [
    {
     "data": {
      "text/plain": [
       "array([ 5,  8, 11, 14, 17, 20, 23, 26, 29, 32])"
      ]
     },
     "execution_count": 92,
     "metadata": {},
     "output_type": "execute_result"
    }
   ],
   "source": [
    "length = 10\n",
    "start = 5\n",
    "step = 3\n",
    "\n",
    "def seq(start, length, step):\n",
    "    end = start + (step*length)\n",
    "    return np.arange(start, end, step)\n",
    "seq(start, length, step)"
   ]
  },
  {
   "cell_type": "markdown",
   "metadata": {},
   "source": [
    "**69.如何在不规则的一系列numpy日期中填写缺失的日期？** \n",
    "\n",
    "难度等级：L3 \n",
    "\n",
    "问：给定一个非连续日期序列的数组。通过填写缺失的日期，使其成为连续的日期序列。\n",
    "\n",
    "输入：\n",
    "\n",
    "/<code>\n",
    "dates = np.arange(np.datetime64('2018-02-01'), np.datetime64('2018-02-25'), 2)\n",
    "print(dates)\n",
    " ['2018-02-01' '2018-02-03' '2018-02-05' '2018-02-07' '2018-02-09'\n",
    "'2018-02-11' '2018-02-13' '2018-02-15' '2018-02-17' '2018-02-19'\n",
    " '2018-02-21' '2018-02-23']\n",
    "/</code>"
   ]
  },
  {
   "cell_type": "code",
   "execution_count": 96,
   "metadata": {},
   "outputs": [
    {
     "name": "stdout",
     "output_type": "stream",
     "text": [
      "['2018-02-01' '2018-02-03' '2018-02-05' '2018-02-07' '2018-02-09'\n",
      " '2018-02-11' '2018-02-13' '2018-02-15' '2018-02-17' '2018-02-19'\n",
      " '2018-02-21' '2018-02-23']\n",
      "['2018-02-01' '2018-02-02' '2018-02-03' '2018-02-04' '2018-02-05'\n",
      " '2018-02-06' '2018-02-07' '2018-02-08' '2018-02-09' '2018-02-10'\n",
      " '2018-02-11' '2018-02-12' '2018-02-13' '2018-02-14' '2018-02-15'\n",
      " '2018-02-16' '2018-02-17' '2018-02-18' '2018-02-19' '2018-02-20'\n",
      " '2018-02-21' '2018-02-22' '2018-02-23']\n",
      "['2018-02-01' '2018-02-02' '2018-02-03' '2018-02-04' '2018-02-05'\n",
      " '2018-02-06' '2018-02-07' '2018-02-08' '2018-02-09' '2018-02-10'\n",
      " '2018-02-11' '2018-02-12' '2018-02-13' '2018-02-14' '2018-02-15'\n",
      " '2018-02-16' '2018-02-17' '2018-02-18' '2018-02-19' '2018-02-20'\n",
      " '2018-02-21' '2018-02-22' '2018-02-23']\n",
      "['2018-02-01' '2018-02-02' '2018-02-03' '2018-02-04' '2018-02-05'\n",
      " '2018-02-06' '2018-02-07' '2018-02-08' '2018-02-09' '2018-02-10'\n",
      " '2018-02-11' '2018-02-12' '2018-02-13' '2018-02-14' '2018-02-15'\n",
      " '2018-02-16' '2018-02-17' '2018-02-18' '2018-02-19' '2018-02-20'\n",
      " '2018-02-21' '2018-02-22' '2018-02-23']\n"
     ]
    }
   ],
   "source": [
    "dates = np.arange(np.datetime64('2018-02-01'), np.datetime64('2018-02-25'), 2)\n",
    "print(dates)\n",
    "dates_seq = np.arange(dates[0], dates[-1]+1)\n",
    "print(dates_seq)\n",
    "\n",
    "# Solution ---------------\n",
    "filled_in = np.array([np.arange(date, (date+d)) for date, d in zip(dates, np.diff(dates))]).reshape(-1)\n",
    "\n",
    "# add the last day\n",
    "output = np.hstack([filled_in, dates[-1]])\n",
    "print(output)\n",
    "\n",
    "# For loop version -------\n",
    "out = []\n",
    "for date, d in zip(dates, np.diff(dates)):\n",
    "    out.append(np.arange(date, (date+d)))\n",
    "\n",
    "filled_in = np.array(out).reshape(-1)\n",
    "\n",
    "# add the last day\n",
    "output = np.hstack([filled_in, dates[-1]])\n",
    "print(output)"
   ]
  },
  {
   "cell_type": "markdown",
   "metadata": {},
   "source": [
    "**70.如何从给定的一维数组创建步幅指定的新数组？** \n",
    "\n",
    "难度等级：L4 \n",
    "\n",
    "问：从给定的1d数组arr中，使用步幅生成2d矩阵，窗口长为4，步长为2，例如[[0,1,2,3]，[2,3,4,5]，[4 ，5,6,7] ..] \n",
    "\n",
    "输入：\n",
    "\n",
    "```\n",
    "arr = np.arange(15) \n",
    "arr\n",
    "#> array([ 0,  1,  2,  3,  4,  5,  6,  7,  8,  9, 10, 11, 12, 13, 14])```"
   ]
  },
  {
   "cell_type": "code",
   "execution_count": 111,
   "metadata": {},
   "outputs": [
    {
     "name": "stdout",
     "output_type": "stream",
     "text": [
      "arr is :\n",
      "[ 0  1  2  3  4  5  6  7  8  9 10 11 12 13 14]\n",
      "start index is:\n",
      "[ 0  2  4  6  8 10]\n",
      "final seq is:\n",
      "[[ 0  1  2  3]\n",
      " [ 2  3  4  5]\n",
      " [ 4  5  6  7]\n",
      " [ 6  7  8  9]\n",
      " [ 8  9 10 11]\n",
      " [10 11 12 13]]\n",
      "[[ 0  1  2  3]\n",
      " [ 2  3  4  5]\n",
      " [ 4  5  6  7]\n",
      " [ 6  7  8  9]\n",
      " [ 8  9 10 11]\n",
      " [10 11 12 13]]\n"
     ]
    }
   ],
   "source": [
    "arr = np.arange(15) \n",
    "print(f\"arr is :\\n{arr}\")\n",
    "kernel_size = 4\n",
    "step = 2\n",
    "res = []\n",
    "print(f\"start index is:\\n{np.arange(len(arr)-(kernel_size-1),step = step)}\")\n",
    "for i in np.arange(len(arr)-(kernel_size-1),step = step):\n",
    "    j = i+kernel_size\n",
    "    res.append(np.array(arr[i:j]))\n",
    "print(f\"final seq is:\\n{np.asarray(res)}\")\n",
    "\n",
    "# Solution ---------------\n",
    "def gen_strides(a, stride_len=5, window_len=5):\n",
    "    n_strides = ((a.size-window_len)//stride_len) + 1\n",
    "    # return np.array([a[s:(s+window_len)] for s in np.arange(0, a.size, stride_len)[:n_strides]])\n",
    "    return np.array([a[s:(s+window_len)] for s in np.arange(0, n_strides*stride_len, stride_len)])\n",
    "\n",
    "print(gen_strides(np.arange(15), stride_len=2, window_len=4))\n"
   ]
  },
  {
   "cell_type": "markdown",
   "metadata": {},
   "source": []
  },
  {
   "cell_type": "markdown",
   "metadata": {},
   "source": []
  },
  {
   "cell_type": "markdown",
   "metadata": {},
   "source": []
  },
  {
   "cell_type": "markdown",
   "metadata": {},
   "source": []
  },
  {
   "cell_type": "markdown",
   "metadata": {},
   "source": []
  },
  {
   "cell_type": "markdown",
   "metadata": {},
   "source": []
  },
  {
   "cell_type": "markdown",
   "metadata": {},
   "source": []
  },
  {
   "cell_type": "markdown",
   "metadata": {},
   "source": []
  },
  {
   "cell_type": "markdown",
   "metadata": {},
   "source": []
  },
  {
   "cell_type": "markdown",
   "metadata": {},
   "source": []
  },
  {
   "cell_type": "markdown",
   "metadata": {},
   "source": []
  },
  {
   "cell_type": "markdown",
   "metadata": {},
   "source": []
  },
  {
   "cell_type": "markdown",
   "metadata": {},
   "source": []
  },
  {
   "cell_type": "markdown",
   "metadata": {},
   "source": []
  },
  {
   "cell_type": "markdown",
   "metadata": {},
   "source": []
  },
  {
   "cell_type": "markdown",
   "metadata": {},
   "source": []
  },
  {
   "cell_type": "markdown",
   "metadata": {},
   "source": []
  },
  {
   "cell_type": "markdown",
   "metadata": {},
   "source": []
  },
  {
   "cell_type": "markdown",
   "metadata": {},
   "source": []
  },
  {
   "cell_type": "markdown",
   "metadata": {},
   "source": []
  },
  {
   "cell_type": "markdown",
   "metadata": {},
   "source": []
  }
 ],
 "metadata": {
  "kernelspec": {
   "display_name": "Python 3",
   "language": "python",
   "name": "python3"
  },
  "language_info": {
   "codemirror_mode": {
    "name": "ipython",
    "version": 3
   },
   "file_extension": ".py",
   "mimetype": "text/x-python",
   "name": "python",
   "nbconvert_exporter": "python",
   "pygments_lexer": "ipython3",
   "version": "3.7.0"
  }
 },
 "nbformat": 4,
 "nbformat_minor": 2
}
