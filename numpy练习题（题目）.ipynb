{
 "cells": [
  {
   "cell_type": "markdown",
   "metadata": {},
   "source": [
    "**1. 将 NumPy 导入为 np，并查看版本**\n",
    "\n",
    "难度：L1 \n",
    "\n",
    "问题：将 NumPy 导入为 np，并输出版本号。"
   ]
  },
  {
   "cell_type": "code",
   "execution_count": null,
   "metadata": {},
   "outputs": [],
   "source": []
  },
  {
   "cell_type": "markdown",
   "metadata": {},
   "source": [
    "**2. 如何创建 1 维数组？** \n",
    "\n",
    "难度：L1 \n",
    "\n",
    "问题：创建数字从 0 到 9 的 1 维数组。 \n",
    "\n",
    "期望输出： \n",
    "#> array([0, 1, 2, 3, 4, 5, 6, 7, 8, 9])"
   ]
  },
  {
   "cell_type": "code",
   "execution_count": null,
   "metadata": {},
   "outputs": [],
   "source": []
  },
  {
   "cell_type": "markdown",
   "metadata": {},
   "source": [
    "**3. 如何创建 boolean 数组？** \n",
    "\n",
    "难度：L1 \n",
    "\n",
    "问题：创建所有 True 的 3×3 NumPy 数组。"
   ]
  },
  {
   "cell_type": "code",
   "execution_count": null,
   "metadata": {},
   "outputs": [],
   "source": []
  },
  {
   "cell_type": "markdown",
   "metadata": {},
   "source": [
    "**4.如何从一维数组中提取满足给定条件的项？** \n",
    "\n",
    "难度：L1\n",
    "\n",
    "问题：从 arr 中提取所有奇数。\n",
    "\n",
    "输入：`arr = np.array([0, 1, 2, 3, 4, 5, 6, 7, 8, 9])` \n",
    "\n",
    "期望输出：``array([1, 3, 5, 7, 9])``"
   ]
  },
  {
   "cell_type": "code",
   "execution_count": null,
   "metadata": {},
   "outputs": [],
   "source": []
  },
  {
   "cell_type": "markdown",
   "metadata": {},
   "source": [
    "**5.如何将numpy数组中满足条件的项替换成另一个值？** \n",
    "\n",
    "难度等级：L1 \n",
    "\n",
    "问题：将arr中所有的奇数替换为-1\n",
    "\n",
    "输入：`arr = np.array([0, 1, 2, 3, 4, 5, 6, 7, 8, 9])` \n",
    "\n",
    "期望输出：`array([ 0, -1,  2, -1,  4, -1,  6, -1,  8, -1])`\n"
   ]
  },
  {
   "cell_type": "code",
   "execution_count": null,
   "metadata": {},
   "outputs": [],
   "source": []
  },
  {
   "cell_type": "markdown",
   "metadata": {},
   "source": [
    "**6.如何将numpy数组中满足条件的项替换成另一个值，而且不影响原始数组？** \n",
    "\n",
    "难度等级：L2 \n",
    "\n",
    "问题：将arr中所有的奇数替换为-1，而无需更改 arr\n",
    "\n",
    "输入：`arr = np.array([0, 1, 2, 3, 4, 5, 6, 7, 8, 9])` \n",
    "\n",
    "期望输出: \n",
    "\n",
    "out \n",
    "\n",
    "`array([ 0, -1,  2, -1,  4, -1,  6, -1,  8, -1])` \n",
    "\n",
    "arr \n",
    "\n",
    "`array([0, 1, 2, 3, 4, 5, 6, 7, 8, 9])`\n"
   ]
  },
  {
   "cell_type": "code",
   "execution_count": null,
   "metadata": {},
   "outputs": [],
   "source": []
  },
  {
   "cell_type": "markdown",
   "metadata": {},
   "source": [
    "**7.如何重塑数组？** \n",
    "\n",
    "难度等级：L1 \n",
    "\n",
    "问题：将一维数组转换为具有两行的二维数组\n",
    "\n",
    "输入：\n",
    "\n",
    "`np.arange(10)` \n",
    "\n",
    "`#> array([ 0, 1, 2, 3, 4, 5, 6, 7, 8, 9])` \n",
    "\n",
    "期望的输出：\n",
    "\n",
    "`#> array([[0, 1, 2, 3, 4],\n",
    "\n",
    "#>        [5, 6, 7, 8, 9]])`"
   ]
  },
  {
   "cell_type": "code",
   "execution_count": null,
   "metadata": {},
   "outputs": [],
   "source": []
  },
  {
   "cell_type": "markdown",
   "metadata": {},
   "source": [
    "**8.如何垂直堆叠两个数组？** \n",
    "\n",
    "难度等级：L2 \n",
    "\n",
    "问题：垂直堆叠数组a和b \n",
    "\n",
    "输入： \n",
    "\n",
    "``a = np.arange(10).reshape(2,-1) \n",
    " b = np.repeat(1, 10).reshape(2,-1)`` \n",
    "\n",
    "期望的输出：\n",
    "\n",
    "#> array([[0, 1, 2, 3, 4],\n",
    "#>        [5, 6, 7, 8, 9],\n",
    "#>        [1, 1, 1, 1, 1],\n",
    "#>        [1, 1, 1, 1, 1]])"
   ]
  },
  {
   "cell_type": "code",
   "execution_count": null,
   "metadata": {},
   "outputs": [],
   "source": []
  },
  {
   "cell_type": "markdown",
   "metadata": {},
   "source": [
    "**9.如何水平堆叠两个数组？** \n",
    "\n",
    "难度等级：L2 \n",
    "\n",
    "问题：水平堆叠数组a和b \n",
    "\n",
    "输入： \n",
    "\n",
    "`a = np.arange(10).reshape(2,-1) ` \n",
    "\n",
    "`b = np.repeat(1, 10).reshape(2,-1) ` \n",
    "\n",
    "期望输出： \n",
    "\n",
    "`#> array([[0, 1, 2, 3, 4, 1, 1, 1, 1, 1],` \n",
    "\n",
    "`#>        [5, 6, 7, 8, 9, 1, 1, 1, 1, 1]])`"
   ]
  },
  {
   "cell_type": "code",
   "execution_count": null,
   "metadata": {},
   "outputs": [],
   "source": []
  },
  {
   "cell_type": "markdown",
   "metadata": {},
   "source": [
    "**10.如何在不进行硬编码的情况下，在numpy中生成自定义序列？** \n",
    "\n",
    "难度等级：L2 \n",
    "\n",
    "问题：不进行硬编码的情况下，创建以下模式。仅使用numpy函数和下面的输入数组a。 \n",
    "\n",
    "输入：\n",
    "\n",
    "`a = np.array([1,2,3])` \n",
    "\n",
    "期望的输出：\n",
    "\n",
    "`#> array([1, 1, 1, 2, 2, 2, 3, 3, 3, 1, 2, 3, 1, 2, 3, 1, 2, 3])`"
   ]
  },
  {
   "cell_type": "code",
   "execution_count": null,
   "metadata": {},
   "outputs": [],
   "source": []
  },
  {
   "cell_type": "markdown",
   "metadata": {},
   "source": [
    "**11.如何获取两个numpy数组的公共项？** \n",
    "\n",
    "难度等级：L2 \n",
    "\n",
    "问题：获取数组a和数组b的公共项\n",
    "\n",
    "输入：\n",
    "\n",
    "`a = np.array([1,2,3,2,3,4,3,4,5,6])` \n",
    "\n",
    "`b = np.array([7,2,10,2,7,4,9,4,9,8])` \n",
    "\n",
    "期望的输出： \n",
    "\n",
    "`array([2, 4])`"
   ]
  },
  {
   "cell_type": "code",
   "execution_count": null,
   "metadata": {},
   "outputs": [],
   "source": []
  },
  {
   "cell_type": "markdown",
   "metadata": {},
   "source": [
    "**12.如何从一个数组中删除另一个数组中存在的那些项？** \n",
    "\n",
    "难度等级：L2 \n",
    "\n",
    "问：从数组中a删除数组b中存在的共同项\n",
    "\n",
    "输入：\n",
    "\n",
    "`a = np.array([1,2,3,4,5])` \n",
    "\n",
    "`b = np.array([5,6,7,8,9])` \n",
    "\n",
    "期望的输出：\n",
    "\n",
    "`array([1,2,3,4])`"
   ]
  },
  {
   "cell_type": "code",
   "execution_count": null,
   "metadata": {},
   "outputs": [],
   "source": []
  },
  {
   "cell_type": "markdown",
   "metadata": {},
   "source": [
    "**13.如何获得两个数组的元素匹配的位置？** \n",
    "\n",
    "难度等级：L2 \n",
    "\n",
    "问：获取a和b匹配的位置\n",
    "\n",
    "输入：\n",
    "\n",
    "`a = np.array([1,2,3,2,3,4,3,4,5,6])` \n",
    "\n",
    "`b = np.array([7,2,10,2,7,4,9,4,9,8])` \n",
    "\n",
    "期望的输出： \n",
    "\n",
    "\n",
    "`#> (array([1, 3, 5, 7]),)`"
   ]
  },
  {
   "cell_type": "markdown",
   "metadata": {},
   "source": [
    "**13.如何获得两个数组的相匹配元素的位置？** \n",
    "\n",
    "难度等级：L2 \n",
    "\n",
    "问：获取a和b元素相匹配的位置 \n",
    "\n",
    "输入：\n",
    "\n",
    "`a = np.array([1,2,3,2,3,4,3,4,5,6])` \n",
    "\n",
    "`b = np.array([7,2,10,2,7,4,9,4,9,8])` \n",
    "\n",
    "期望的输出： \n",
    "\n",
    "`#> (array([1, 3, 5, 7]),)`"
   ]
  },
  {
   "cell_type": "code",
   "execution_count": null,
   "metadata": {},
   "outputs": [],
   "source": []
  },
  {
   "cell_type": "markdown",
   "metadata": {},
   "source": [
    "**14.如何从numpy数组中提取给定范围内的所有数字？** \n",
    "\n",
    "难度等级：L2 \n",
    "\n",
    "问：从中数组a中获取5到10之间的所有项 \n",
    "\n",
    "输入：\n",
    "\n",
    "`a = np.array([2, 6, 1, 9, 10, 3, 27])` \n",
    "\n",
    "期望的输出： \n",
    "\n",
    "`（array（[ 6 ，9 ，10 ]），）`\n"
   ]
  },
  {
   "cell_type": "code",
   "execution_count": null,
   "metadata": {},
   "outputs": [],
   "source": []
  },
  {
   "cell_type": "markdown",
   "metadata": {},
   "source": [
    "**15.如何制作一个处理标量的python函数以在numpy数组上工作？** \n",
    "\n",
    "难度等级：L2 \n",
    "\n",
    "问：将对两个标量起作用的函数maxx转换为对两个数组起作用 \n",
    "\n",
    "输入：\n",
    "\n",
    "/<code>\n",
    "def maxx(x, y):\n",
    "    \"\"\"Get the maximum of two items\"\"\"\n",
    "    if x >= y:\n",
    "        return x\n",
    "    else:\n",
    "        return y\n",
    "\n",
    "maxx(1, 5)\n",
    "#> 5\n",
    "/</code>\n",
    "\n",
    "期望的输出： \n",
    "\n",
    "/<code>\n",
    "a = np.array([5, 7, 9, 8, 6, 4, 5])\n",
    "b = np.array([6, 3, 4, 8, 9, 7, 1])\n",
    "pair_max(a, b)\n",
    "#> array([ 6.,  7.,  9.,  8.,  9.,  7.,  5.])\n",
    "/</code>"
   ]
  },
  {
   "cell_type": "code",
   "execution_count": null,
   "metadata": {},
   "outputs": [],
   "source": []
  },
  {
   "cell_type": "markdown",
   "metadata": {},
   "source": [
    "**16.如何在两维 numpy数组中交换两列？** \n",
    "\n",
    "难度等级：L2 \n",
    "\n",
    "问：交换arr数组中的第1列和第2列。\n",
    "\n",
    "输入： \n",
    "\n",
    "/<code>\n",
    "arr = np.arange(9).reshape(3,3)\n",
    "/</code> \n",
    "\n",
    "期望的输出： \n",
    "\n",
    "/<code>\n",
    "array([[1, 0, 2],\n",
    "       [4, 3, 5],\n",
    "       [7, 6, 8]])\n",
    "/</code> "
   ]
  },
  {
   "cell_type": "code",
   "execution_count": null,
   "metadata": {},
   "outputs": [],
   "source": []
  },
  {
   "cell_type": "markdown",
   "metadata": {},
   "source": [
    "**17.如何交换二维numpy数组中的两行？** \n",
    "\n",
    "难度等级：L2 \n",
    "\n",
    "问题：交换数组arr中的第1行和第2行：\n",
    "\n",
    "```arr = np.arange(9).reshape(3,3)\n",
    "arr```"
   ]
  },
  {
   "cell_type": "code",
   "execution_count": null,
   "metadata": {},
   "outputs": [],
   "source": []
  },
  {
   "cell_type": "markdown",
   "metadata": {},
   "source": [
    "**18.如何反转2D数组的行？** \n",
    "\n",
    "难度等级：L2 \n",
    "\n",
    "问：反转2D数组arr的行。\n",
    "\n",
    "输入： \n",
    "\n",
    "```arr = np.arange(9).reshape(3,3)\n",
    "arr\n",
    "[[0 1 2]\n",
    " [3 4 5]\n",
    " [6 7 8]]```\n",
    "\n",
    "期望的输出： \n",
    "\n",
    "```array([[6, 7, 8],\n",
    "       [3, 4, 5],\n",
    "       [0, 1, 2]])```\n"
   ]
  },
  {
   "cell_type": "code",
   "execution_count": null,
   "metadata": {},
   "outputs": [],
   "source": []
  },
  {
   "cell_type": "markdown",
   "metadata": {},
   "source": [
    "**19.如何反转2D数组的列？** \n",
    "\n",
    "难度等级：L2 \n",
    "\n",
    "问：反转2D数组arr的列。\n",
    "\n",
    "输入： \n",
    "\n",
    "```arr = np.arange(9).reshape(3,3)\n",
    "arr\n",
    "[[0 1 2]\n",
    " [3 4 5]\n",
    " [6 7 8]]```\n",
    "\n",
    "期望的输出： \n",
    "\n",
    "```#> array([[2, 1, 0],\n",
    "        [5, 4, 3],\n",
    "        [8, 7, 6]])```"
   ]
  },
  {
   "cell_type": "code",
   "execution_count": null,
   "metadata": {},
   "outputs": [],
   "source": []
  },
  {
   "cell_type": "markdown",
   "metadata": {},
   "source": [
    "**20.如何创建一个包含5到10之间的随机浮点数的2D数组？** \n",
    "\n",
    "难度等级：L2 \n",
    "\n",
    "问：创建一个形状为5x3的2D数组，以包含5到10之间的随机十进制数。"
   ]
  },
  {
   "cell_type": "code",
   "execution_count": null,
   "metadata": {},
   "outputs": [],
   "source": []
  },
  {
   "cell_type": "code",
   "execution_count": 120,
   "metadata": {},
   "outputs": [
    {
     "data": {
      "text/plain": [
       "array([[6.57965908, 8.86200376, 5.85241429],\n",
       "       [5.79113381, 8.86717009, 5.67536708],\n",
       "       [5.4070542 , 9.47323233, 6.79741606],\n",
       "       [9.22002176, 6.8328602 , 9.73247235],\n",
       "       [5.95403343, 9.3688248 , 8.29331962]])"
      ]
     },
     "execution_count": 120,
     "metadata": {},
     "output_type": "execute_result"
    }
   ],
   "source": [
    "arr = np.random.uniform(5,10,size=(5,3))\n",
    "arr"
   ]
  },
  {
   "cell_type": "markdown",
   "metadata": {},
   "source": [
    "**21.如何在python numpy数组中仅打印3个小数位？** \n",
    "\n",
    "难度等级：L1 \n",
    "\n",
    "问：打印或仅显示numpy数组rand_arr的3个小数位\n",
    "\n",
    "输入： \n",
    "\n",
    "`rand_arr = np.random.random((5,3))`"
   ]
  },
  {
   "cell_type": "code",
   "execution_count": null,
   "metadata": {},
   "outputs": [],
   "source": []
  },
  {
   "cell_type": "markdown",
   "metadata": {},
   "source": [
    "**22.如何通过抑制科学计数法（如1e10）来漂亮地打印一个numpy数组？** \n",
    "\n",
    "难度等级：L1 \n",
    "\n",
    "问：rand_arr压制科学记数法（如1e10）可以打印出漂亮的文字 \n",
    "\n",
    "输入：\n",
    "\n",
    "/<code>\n",
    "#Create the random array\n",
    "np.random.seed(100)\n",
    "rand_arr = np.random.random([3,3])/1e3\n",
    "rand_arr\n",
    "\n",
    "array([[  5.434049e-04,   2.783694e-04,   4.245176e-04],\n",
    "        [  8.447761e-04,   4.718856e-06,   1.215691e-04],\n",
    "        [  6.707491e-04,   8.258528e-04,   1.367066e-04]])\n",
    "/</code> \n",
    "\n",
    "期望的输出： \n",
    "\n",
    "\n",
    "``` array([[ 0.000543,  0.000278,  0.000425],\n",
    "        [ 0.000845,  0.000005,  0.000122],\n",
    "       [ 0.000671,  0.000826,  0.000137]])```"
   ]
  },
  {
   "cell_type": "code",
   "execution_count": null,
   "metadata": {},
   "outputs": [],
   "source": []
  },
  {
   "cell_type": "markdown",
   "metadata": {},
   "source": [
    "**23.如何限制numpy数组打印输出中的项目数？** \n",
    "\n",
    "难度等级：L1 \n",
    "\n",
    "问：限制numpy数组a中打印的项目数最多为6个元素。\n",
    "\n",
    "输入：\n",
    "\n",
    "```\n",
    "a = np.arange(15)\n",
    "#> array([ 0,  1,  2,  3,  4,  5,  6,  7,  8,  9, 10, 11, 12, 13, 14]) ``` \n",
    "\n",
    "期望的输出： \n",
    "\n",
    "```\n",
    "#> array([ 0,  1,  2, ..., 12, 13, 14])```"
   ]
  },
  {
   "cell_type": "code",
   "execution_count": null,
   "metadata": {},
   "outputs": [],
   "source": []
  },
  {
   "cell_type": "markdown",
   "metadata": {},
   "source": [
    "**24.如何在不截断的情况下打印完整的numpy数组** \n",
    "\n",
    "难度等级：L1 \n",
    "\n",
    "问：打印完整的numpy数组a而不被截断。\n",
    "\n",
    "输入：\n",
    "\n",
    "/<code>\n",
    "np.set_printoptions(threshold=6)\n",
    "a = np.arange(15)\n",
    "a\n",
    "#> array([ 0,  1,  2, ..., 12, 13, 14])\n",
    "/<code> \n",
    "    \n",
    "期望的输出：\n",
    "```\n",
    "a\n",
    "#> array([ 0,  1,  2,  3,  4,  5,  6,  7,  8,  9, 10, 11, 12, 13, 14])```"
   ]
  },
  {
   "cell_type": "code",
   "execution_count": null,
   "metadata": {},
   "outputs": [],
   "source": []
  },
  {
   "cell_type": "markdown",
   "metadata": {},
   "source": [
    "**25.如何导入带有数字和文本的数据集，以使numpy中的文本完整无缺？** \n",
    "\n",
    "难度等级：L2 \n",
    "\n",
    "问题：导入鸢尾花数据集iris dataset，并保持文本完整无缺,链接=‘https://archive.ics.uci.edu/ml/machine-learning-databases/iris/iris.data’"
   ]
  },
  {
   "cell_type": "code",
   "execution_count": null,
   "metadata": {},
   "outputs": [],
   "source": []
  },
  {
   "cell_type": "markdown",
   "metadata": {},
   "source": [
    "**26.如何从一维元组数组中提取特定列？** \n",
    "\n",
    "难度等级：L2 \n",
    "\n",
    "问：从导入的iris一维元组数组中提取文本列species \n",
    "\n",
    "输入：\n",
    "\n",
    "/<code>\n",
    "url = 'https://archive.ics.uci.edu/ml/machine-learning-databases/iris/iris.data'\n",
    "iris_1d = np.genfromtxt(url, delimiter=',', dtype=None)\n",
    "/<code>"
   ]
  },
  {
   "cell_type": "code",
   "execution_count": null,
   "metadata": {},
   "outputs": [],
   "source": []
  },
  {
   "cell_type": "markdown",
   "metadata": {},
   "source": [
    "**27.如何将一元组的一维数组转换为二维的numpy数组？** \n",
    "\n",
    "难度等级：L2 \n",
    "\n",
    "问：通过省略文本字段species，将1Diris数组转换为2D数组iris_2d\n",
    "\n",
    "输入：\n",
    "\n",
    "```\n",
    "url = 'https://archive.ics.uci.edu/ml/machine-learning-databases/iris/iris.data'\n",
    "iris_1d = np.genfromtxt(url, delimiter=',', dtype=None)```"
   ]
  },
  {
   "cell_type": "code",
   "execution_count": null,
   "metadata": {},
   "outputs": [],
   "source": []
  },
  {
   "cell_type": "markdown",
   "metadata": {},
   "source": [
    "**28.如何计算一个numpy数组的均值，中位数，标准差？** \n",
    "\n",
    "难度：L1 \n",
    "\n",
    "问：求出iris的sepallength列的均值，中位数，标准差（第一列）#names = ('sepallength', 'sepalwidth', 'petallength', 'petalwidth', 'species')\n",
    "\n",
    "输入：\n",
    "\n",
    "```url = 'https://archive.ics.uci.edu/ml/machine-learning-databases/iris/iris.data'\n",
    "iris = np.genfromtxt(url, delimiter=',', dtype='object')```"
   ]
  },
  {
   "cell_type": "code",
   "execution_count": null,
   "metadata": {},
   "outputs": [],
   "source": []
  },
  {
   "cell_type": "markdown",
   "metadata": {},
   "source": [
    "**29.如何规范化数组，以使值恰好在0到1之间？** \n",
    "\n",
    "难度：L2 \n",
    "\n",
    "Q:创建归一化形式的iris的sepallength，其值范围恰好0与1之间，使得最小的值为0，并且最大的值为1。\n",
    "\n",
    "输入：\n",
    "\n",
    "```\n",
    "url = 'https://archive.ics.uci.edu/ml/machine-learning-databases/iris/iris.data'\n",
    "sepallength = np.genfromtxt(url, delimiter=',', dtype='float', usecols=[0])```"
   ]
  },
  {
   "cell_type": "code",
   "execution_count": null,
   "metadata": {},
   "outputs": [],
   "source": []
  },
  {
   "cell_type": "markdown",
   "metadata": {},
   "source": [
    "**30.如何计算softmax分数？(L3)** \n",
    "\n",
    "问：计算sepallength的softmax得分 \n",
    "\n",
    "输入： \n",
    "\n",
    "```\n",
    "url = 'https://archive.ics.uci.edu/ml/machine-learning-databases/iris/iris.data'\n",
    "sepallength = np.genfromtxt(url, delimiter=',', dtype='float', usecols=[0])```"
   ]
  },
  {
   "cell_type": "code",
   "execution_count": null,
   "metadata": {},
   "outputs": [],
   "source": []
  },
  {
   "cell_type": "markdown",
   "metadata": {},
   "source": [
    "**31.如何找到一个numpy数组的百分位数？** \n",
    "\n",
    "难度等级：L1 \n",
    "\n",
    "问：找到iris数据sepallength列的第5和第95百分位数\n",
    "\n",
    "```url = 'https://archive.ics.uci.edu/ml/machine-learning-databases/iris/iris.data'\n",
    "sepallength = np.genfromtxt(url, delimiter=',', dtype='float', usecols=[0])```"
   ]
  },
  {
   "cell_type": "code",
   "execution_count": null,
   "metadata": {},
   "outputs": [],
   "source": []
  },
  {
   "cell_type": "markdown",
   "metadata": {},
   "source": [
    "**32.如何在数组的随机位置插入值？** \n",
    "\n",
    "难度等级：L2 \n",
    "\n",
    "问：在iris_2d数据集的20个随机位置插入值np.nan \n",
    "\n",
    "输入： \n",
    "\n",
    "```url = 'https://archive.ics.uci.edu/ml/machine-learning-databases/iris/iris.data'\n",
    "iris_2d = np.genfromtxt(url, delimiter=',', dtype='object')```"
   ]
  },
  {
   "cell_type": "code",
   "execution_count": null,
   "metadata": {},
   "outputs": [],
   "source": []
  },
  {
   "cell_type": "markdown",
   "metadata": {},
   "source": [
    "**33.如何在numpy数组中查找缺失值的位置？** \n",
    "\n",
    "难度等级：L2 \n",
    "\n",
    "问：在iris_2d的sepallength（第1列）中找到缺失值的数量和位置\n",
    "\n",
    "输入： \n",
    "\n",
    "```url = 'https://archive.ics.uci.edu/ml/machine-learning-databases/iris/iris.data'\n",
    "iris_2d = np.genfromtxt(url, delimiter=',', dtype='float')\n",
    "iris_2d[np.random.randint(150, size=20), np.random.randint(4, size=20)] = np.nan```"
   ]
  },
  {
   "cell_type": "code",
   "execution_count": null,
   "metadata": {},
   "outputs": [],
   "source": []
  },
  {
   "cell_type": "markdown",
   "metadata": {},
   "source": [
    "**34.如何根据两个或多个条件过滤一个numpy数组？** \n",
    "\n",
    "难度等级：L3 \n",
    "\n",
    "问：筛选iris_2d第3列petallength > 1.5和第1列sepallength  < 5.0 的行\n",
    "\n",
    "输入： \n",
    "\n",
    "```url = 'https://archive.ics.uci.edu/ml/machine-learning-databases/iris/iris.data'\n",
    "iris_2d = np.genfromtxt(url, delimiter=',', dtype='float', usecols=[0,1,2,3])```"
   ]
  },
  {
   "cell_type": "code",
   "execution_count": null,
   "metadata": {},
   "outputs": [],
   "source": []
  },
  {
   "cell_type": "markdown",
   "metadata": {},
   "source": [
    "**35.如何从numpy数组中删除包含缺失值的行？** \n",
    "\n",
    "难度等级：L3：\n",
    "\n",
    "问：选择没有任何nan值的iris_2d行\n",
    "\n",
    "输入： \n",
    "\n",
    "```url = 'https://archive.ics.uci.edu/ml/machine-learning-databases/iris/iris.data'\n",
    "iris_2d = np.genfromtxt(url, delimiter=',', dtype='float', usecols=[0,1,2,3])```"
   ]
  },
  {
   "cell_type": "code",
   "execution_count": null,
   "metadata": {},
   "outputs": [],
   "source": []
  },
  {
   "cell_type": "markdown",
   "metadata": {},
   "source": [
    "**36.如何找到一个numpy数组的两列之间的相关性？** \n",
    "\n",
    "难度等级：L2 \n",
    "\n",
    "问：在iris_2d中找到SepalLength（第一列）和PetalLength（第三列）之间的相关性 \n",
    "\n",
    "输入： \n",
    "\n",
    "```url = 'https://archive.ics.uci.edu/ml/machine-learning-databases/iris/iris.data'\n",
    "iris_2d = np.genfromtxt(url, delimiter=',', dtype='float', usecols=[0,1,2,3])```"
   ]
  },
  {
   "cell_type": "code",
   "execution_count": null,
   "metadata": {},
   "outputs": [],
   "source": []
  },
  {
   "cell_type": "markdown",
   "metadata": {},
   "source": [
    "**37.如何查找给定数组是否具有空值？** \n",
    "\n",
    "难度等级：L2 \n",
    "\n",
    "问：找出iris_2d是否有任何缺失值\n",
    "\n",
    "输入： \n",
    "\n",
    "```url = 'https://archive.ics.uci.edu/ml/machine-learning-databases/iris/iris.data'\n",
    "iris_2d = np.genfromtxt(url, delimiter=',', dtype='float', usecols=[0,1,2,3])```"
   ]
  },
  {
   "cell_type": "code",
   "execution_count": null,
   "metadata": {},
   "outputs": [],
   "source": []
  },
  {
   "cell_type": "markdown",
   "metadata": {},
   "source": [
    "**38.如何在numpy数组中将所有缺失值替换为0？** \n",
    "\n",
    "难度等级：L2 \n",
    "\n",
    "问：numpy数组中，所有出现nan的都替换为0\n",
    "\n",
    "输入：\n",
    "\n",
    "```url = 'https://archive.ics.uci.edu/ml/machine-learning-databases/iris/iris.data'\n",
    "iris_2d = np.genfromtxt(url, delimiter=',', dtype='float', usecols=[0,1,2,3])\n",
    "iris_2d[np.random.randint(150, size=20), np.random.randint(4, size=20)] = np.nan```\n",
    "    \n"
   ]
  },
  {
   "cell_type": "code",
   "execution_count": null,
   "metadata": {},
   "outputs": [],
   "source": []
  },
  {
   "cell_type": "markdown",
   "metadata": {},
   "source": [
    "**39.如何在numpy数组中查找唯一值的计数？** \n",
    "\n",
    "难度等级：L2 \n",
    "\n",
    "问：查找iris数据集species列的唯一值和唯一值的计数 \n",
    "\n",
    "输入： \n",
    "\n",
    "```url = 'https://archive.ics.uci.edu/ml/machine-learning-databases/iris/iris.data'\n",
    "iris = np.genfromtxt(url, delimiter=',', dtype='object')\n",
    "names = ('sepallength', 'sepalwidth', 'petallength', 'petalwidth', 'species')```"
   ]
  },
  {
   "cell_type": "code",
   "execution_count": null,
   "metadata": {},
   "outputs": [],
   "source": []
  },
  {
   "cell_type": "markdown",
   "metadata": {},
   "source": [
    "**40.如何将数字转换为分类（文本）数组？** \n",
    "\n",
    "难度等级：L2 \n",
    "\n",
    "问：对iris_2d的花瓣长度（第3列）进行装箱以形成文本数组，例如，如果花瓣长度为：\n",
    "\n",
    "少于3->'小'\n",
    "\n",
    "3-5->'中等'\n",
    "\n",
    "'> = 5->'大' \n",
    "\n",
    "\n",
    "输入： \n",
    "\n",
    "```url = 'https://archive.ics.uci.edu/ml/machine-learning-databases/iris/iris.data'\n",
    "iris = np.genfromtxt(url, delimiter=',', dtype='object')\n",
    "names = ('sepallength', 'sepalwidth', 'petallength', 'petalwidth', 'species')```"
   ]
  },
  {
   "cell_type": "code",
   "execution_count": null,
   "metadata": {},
   "outputs": [],
   "source": []
  },
  {
   "cell_type": "markdown",
   "metadata": {},
   "source": [
    "**41.如何从一个numpy数组的现有列中创建一个新列？** \n",
    "\n",
    "难度等级：L2 \n",
    "\n",
    "问：在iris_2d中创建一个新列volume，其中volume的创建方式为 (pi * petallength * sepal_length^2)/3 \n",
    "\n",
    "输入：\n",
    "\n",
    "```url = 'https://archive.ics.uci.edu/ml/machine-learning-databases/iris/iris.data'\n",
    "iris_2d = np.genfromtxt(url, delimiter=',', dtype='object')\n",
    "names = ('sepallength', 'sepalwidth', 'petallength', 'petalwidth', 'species')```"
   ]
  },
  {
   "cell_type": "code",
   "execution_count": null,
   "metadata": {},
   "outputs": [],
   "source": []
  },
  {
   "cell_type": "markdown",
   "metadata": {},
   "source": [
    "**42.如何在numpy中进行概率抽样？** \n",
    "\n",
    "难度等级：L3 \n",
    "\n",
    "Q.随机抽取iris的类别(species列)样本，使得setose类的数量是versicolor和virginica的和。\n",
    "类别有：[b'Iris-setosa', b'Iris-versicolor', b'Iris-virginica']\n",
    "\n",
    "输入： \n",
    "\n",
    "```url = 'https://archive.ics.uci.edu/ml/machine-learning-databases/iris/iris.data'\n",
    "iris = np.genfromtxt(url, delimiter=',', dtype='object')\n",
    "names = ('sepallength', 'sepalwidth', 'petallength', 'petalwidth', 'species')```"
   ]
  },
  {
   "cell_type": "code",
   "execution_count": null,
   "metadata": {},
   "outputs": [],
   "source": []
  },
  {
   "cell_type": "markdown",
   "metadata": {},
   "source": [
    "**43.当被另一个数组分组时，如何获得第二个最大值？** \n",
    "\n",
    "难度等级：L2 \n",
    " \n",
    "问：物种setosa的petallength第二长是多少？\n",
    "\n",
    "输入： \n",
    "\n",
    "```url = 'https://archive.ics.uci.edu/ml/machine-learning-databases/iris/iris.data'\n",
    "iris = np.genfromtxt(url, delimiter=',', dtype='object')\n",
    "names = ('sepallength', 'sepalwidth', 'petallength', 'petalwidth', 'species')```"
   ]
  },
  {
   "cell_type": "code",
   "execution_count": null,
   "metadata": {},
   "outputs": [],
   "source": []
  },
  {
   "cell_type": "markdown",
   "metadata": {},
   "source": [
    "**44.如何按列对二维数组排序** \n",
    "\n",
    "难度等级：L2 \n",
    " \n",
    "问：根据sepallength列对iris数据集进行排序\n",
    "\n",
    "```url = 'https://archive.ics.uci.edu/ml/machine-learning-databases/iris/iris.data'\n",
    "iris = np.genfromtxt(url, delimiter=',', dtype='object')\n",
    "names = ('sepallength', 'sepalwidth', 'petallength', 'petalwidth', 'species')```"
   ]
  },
  {
   "cell_type": "code",
   "execution_count": null,
   "metadata": {},
   "outputs": [],
   "source": []
  },
  {
   "cell_type": "markdown",
   "metadata": {},
   "source": [
    "**45.如何在numpy数组中查找最频繁的值？** \n",
    "\n",
    "难度等级：L1 \n",
    "\n",
    "问：在iris数据集中找到最常见的花瓣长度值（第3列）\n",
    "\n",
    "输入：\n",
    "\n",
    "```url = 'https://archive.ics.uci.edu/ml/machine-learning-databases/iris/iris.data'\n",
    "iris = np.genfromtxt(url, delimiter=',', dtype='object')\n",
    "names = ('sepallength', 'sepalwidth', 'petallength', 'petalwidth', 'species')```"
   ]
  },
  {
   "cell_type": "code",
   "execution_count": null,
   "metadata": {},
   "outputs": [],
   "source": []
  },
  {
   "cell_type": "markdown",
   "metadata": {},
   "source": [
    "**46.如何找到第一次出现的值大于给定值的位置？** \n",
    "\n",
    "难度等级：L2 \n",
    "\n",
    "问：iris数据集第4列的花瓣宽度第一次出现的值大于1.0的位置 \n",
    "\n",
    "输入： \n",
    "\n",
    "```url = 'https://archive.ics.uci.edu/ml/machine-learning-databases/iris/iris.data'\n",
    "iris = np.genfromtxt(url, delimiter=',', dtype='object')```"
   ]
  },
  {
   "cell_type": "code",
   "execution_count": null,
   "metadata": {},
   "outputs": [],
   "source": []
  },
  {
   "cell_type": "markdown",
   "metadata": {},
   "source": [
    "**47.如何将大于给定值的所有值替换为给定截止值？** \n",
    "\n",
    "难度等级：L2 \n",
    "\n",
    "问：将数组a中所有大于30替换成30，小于10的值替换10，即按照给定值进行截断\n",
    "\n",
    "输入：\n",
    "\n",
    "```np.random.seed(100)\n",
    "a = np.random.uniform(1,50, 20)```"
   ]
  },
  {
   "cell_type": "code",
   "execution_count": null,
   "metadata": {},
   "outputs": [],
   "source": []
  },
  {
   "cell_type": "markdown",
   "metadata": {},
   "source": [
    "**48.如何从一个numpy数组中获取最高值的位置？** \n",
    "\n",
    "难度等级：L2 \n",
    "\n",
    "问：获取给定数组a中前5个最大值的位置 \n",
    "\n",
    "```np.random.seed(100)\n",
    "a = np.random.uniform(1,50, 20)```"
   ]
  },
  {
   "cell_type": "code",
   "execution_count": null,
   "metadata": {},
   "outputs": [],
   "source": []
  },
  {
   "cell_type": "markdown",
   "metadata": {},
   "source": [
    "**49.如何计算数组中所有可能值的按行计数？** \n",
    "\n",
    "难度等级：L4 \n",
    "\n",
    "问：按行计算唯一值的计数 \n",
    "\n",
    "输入：\n",
    "\n",
    "/<code>\n",
    "np.random.seed(100)\n",
    "arr = np.random.randint(1,11,size=(6, 10))\n",
    "arr\n",
    "> array([[ 9,  9,  4,  8,  8,  1,  5,  3,  6,  3],\n",
    ">        [ 3,  3,  2,  1,  9,  5,  1, 10,  7,  3],\n",
    ">        [ 5,  2,  6,  4,  5,  5,  4,  8,  2,  2],\n",
    ">        [ 8,  8,  1,  3, 10, 10,  4,  3,  6,  9],\n",
    ">        [ 2,  1,  8,  7,  3,  1,  9,  3,  6,  2],\n",
    ">        [ 9,  2,  6,  5,  3,  9,  4,  6,  1, 10]])\n",
    "\n",
    "期望的输出：\n",
    "\n",
    "> [[1, 0, 2, 1, 1, 1, 0, 2, 2, 0],\n",
    ">  [2, 1, 3, 0, 1, 0, 1, 0, 1, 1],\n",
    ">  [0, 3, 0, 2, 3, 1, 0, 1, 0, 0],\n",
    ">  [1, 0, 2, 1, 0, 1, 0, 2, 1, 2],\n",
    ">  [2, 2, 2, 0, 0, 1, 1, 1, 1, 0],\n",
    ">  [1, 1, 1, 1, 1, 2, 0, 0, 2, 1]]\n",
    "/</code> \n",
    "\n",
    "输出包含10列，代表1到10之间的数字。值是相应行中数字的计数。 \n",
    "\n",
    "例如，Cell（0,2）的值为2，这意味着数字3在第一行中恰好出现了2次。"
   ]
  },
  {
   "cell_type": "code",
   "execution_count": null,
   "metadata": {},
   "outputs": [],
   "source": []
  },
  {
   "cell_type": "markdown",
   "metadata": {},
   "source": [
    "**50.如何将数组转换为平面一维数组？** \n",
    "\n",
    "难度等级：2 \n",
    "\n",
    "问：将array_of_arrays转换为平面线性一维数组 \n",
    "\n",
    "输入: \n",
    "\n",
    "\n",
    "```arr1 = np.arange(3)\n",
    "arr2 = np.arange(3,7)\n",
    "arr3 = np.arange(7,10)\n",
    "\n",
    "array_of_arrays = np.array([arr1, arr2, arr3])\n",
    "array_of_arrays\n",
    "#> array([array([0, 1, 2]), array([3, 4, 5, 6]), array([7, 8, 9])], dtype=object)\n",
    "``` \n",
    "\n",
    "期望的输出：\n",
    "\n",
    "`#> array([0, 1, 2, 3, 4, 5, 6, 7, 8, 9])"
   ]
  },
  {
   "cell_type": "code",
   "execution_count": null,
   "metadata": {},
   "outputs": [],
   "source": []
  },
  {
   "cell_type": "markdown",
   "metadata": {},
   "source": [
    "**51.如何在numpy中为数组生成one-hot编码？** \n",
    "\n",
    "难度等级L4 \n",
    "\n",
    "问：进行one-hot编码（数组中每个唯一值的虚拟二进制变量）\n",
    "\n",
    "输入：\n",
    "\n",
    "```np.random.seed(101) \n",
    "arr = np.random.randint(1,4, size=6)\n",
    "arr\n",
    "#> array([2, 3, 2, 2, 2, 1])``` \n",
    "\n",
    "输出：\n",
    "\n",
    "```#> array([[ 0.,  1.,  0.],\n",
    "#>        [ 0.,  0.,  1.],\n",
    "#>        [ 0.,  1.,  0.],\n",
    "#>        [ 0.,  1.,  0.],\n",
    "#>        [ 0.,  1.,  0.],\n",
    "#>        [ 1.,  0.,  0.]])```"
   ]
  },
  {
   "cell_type": "code",
   "execution_count": null,
   "metadata": {},
   "outputs": [],
   "source": []
  },
  {
   "cell_type": "markdown",
   "metadata": {},
   "source": [
    "**52.如何创建按类别变量分组的行号？** \n",
    "\n",
    "难度等级：L3 \n",
    "\n",
    "问：创建按类别变量分组的行号。使用以下示例iris species作为输入。\n",
    "\n",
    "输入：\n",
    "\n",
    "```\n",
    "url = 'https://archive.ics.uci.edu/ml/machine-learning-databases/iris/iris.data'\n",
    "species = np.genfromtxt(url, delimiter=',', dtype='str', usecols=4)\n",
    "species_small = np.sort(np.random.choice(species, size=20))\n",
    "species_small\n",
    "array(['Iris-setosa', 'Iris-setosa', 'Iris-setosa', 'Iris-setosa',\n",
    "        'Iris-setosa', 'Iris-setosa', 'Iris-versicolor', 'Iris-versicolor',\n",
    "        'Iris-versicolor', 'Iris-versicolor', 'Iris-versicolor',\n",
    "        'Iris-versicolor', 'Iris-virginica', 'Iris-virginica',\n",
    "        'Iris-virginica', 'Iris-virginica', 'Iris-virginica',\n",
    "        'Iris-virginica', 'Iris-virginica', 'Iris-virginica'],\n",
    "       dtype='<U15')\n",
    "``` \n",
    "    \n",
    "期望的输出：\n",
    "\n",
    "#> [0, 1, 2, 3, 4, 5, 0, 1, 2, 3, 4, 5, 0, 1, 2, 3, 4, 5, 6, 7]"
   ]
  },
  {
   "cell_type": "code",
   "execution_count": null,
   "metadata": {},
   "outputs": [],
   "source": []
  },
  {
   "cell_type": "markdown",
   "metadata": {},
   "source": [
    "**53.如何基于给定的分类变量创建组ID？** \n",
    "\n",
    "难度等级：L4 \n",
    "\n",
    "问：根据给定的分类变量创建组ID。使用以下示例iris species作为输入。\n",
    "\n",
    "输入：\n",
    "\n",
    "```\n",
    "url = 'https://archive.ics.uci.edu/ml/machine-learning-databases/iris/iris.data'\n",
    "species = np.genfromtxt(url, delimiter=',', dtype='str', usecols=4)\n",
    "species_small = np.sort(np.random.choice(species, size=20))\n",
    "species_small\n",
    "#> array(['Iris-setosa', 'Iris-setosa', 'Iris-setosa', 'Iris-setosa',\n",
    "#>        'Iris-setosa', 'Iris-setosa', 'Iris-versicolor', 'Iris-versicolor',\n",
    "#>        'Iris-versicolor', 'Iris-versicolor', 'Iris-versicolor',\n",
    "#>        'Iris-versicolor', 'Iris-virginica', 'Iris-virginica',\n",
    "#>        'Iris-virginica', 'Iris-virginica', 'Iris-virginica',\n",
    "#>        'Iris-virginica', 'Iris-virginica', 'Iris-virginica'],\n",
    "#>       dtype='<U15')``` \n",
    "\n",
    "\n",
    "期望的输出：\n",
    "\n",
    "#> [0, 0, 0, 0, 0, 1, 1, 1, 1, 1, 1, 1, 1, 1, 2, 2, 2, 2, 2, 2]"
   ]
  },
  {
   "cell_type": "code",
   "execution_count": null,
   "metadata": {},
   "outputs": [],
   "source": []
  },
  {
   "cell_type": "markdown",
   "metadata": {},
   "source": [
    "**54.如何使用numpy对数组中的项目进行排名？** \n",
    "\n",
    "难度等级：L2 \n",
    "\n",
    "问：为给定的数组a创建等级\n",
    "\n",
    "输入：\n",
    "\n",
    "```\n",
    "np.random.seed(10)\n",
    "a = np.random.randint(20, size=10)\n",
    "print(a)\n",
    "#> [ 9  4 15  0 17 16 17  8  9  0]```\n",
    "\n",
    "期望的输出：\n",
    "\n",
    "[4 2 6 0 8 7 9 3 5 1]"
   ]
  },
  {
   "cell_type": "code",
   "execution_count": null,
   "metadata": {},
   "outputs": [],
   "source": []
  },
  {
   "cell_type": "markdown",
   "metadata": {},
   "source": [
    "**55.如何使用numpy对多维数组中的项目进行排名？** \n",
    "\n",
    "难度等级：L3 \n",
    "\n",
    "问：创建与给定数值数组a形状相同的等级数组。\n",
    "\n",
    "输入：\n",
    "\n",
    "```np.random.seed(10)\n",
    "a = np.random.randint(20, size=[2,5])\n",
    "print(a)\n",
    "#> [[ 9  4 15  0 17]\n",
    "#>  [16 17  8  9  0]]```\n",
    "\n",
    "期望的输出：\n",
    "\n",
    "#> [[4 2 6 0 8]\n",
    "#>  [7 9 3 5 1]]"
   ]
  },
  {
   "cell_type": "code",
   "execution_count": null,
   "metadata": {},
   "outputs": [],
   "source": []
  },
  {
   "cell_type": "markdown",
   "metadata": {},
   "source": [
    "**56.如何在2维numpy数组的每一行中找到最大值？** \n",
    "\n",
    "难度等级：L2 \n",
    "\n",
    "问：计算给定数组中每一行的最大值。\n",
    "\n",
    "```np.random.seed(100)\n",
    "a = np.random.randint(1,10, [5,3])\n",
    "a\n",
    "#> array([[9, 9, 4],\n",
    "#>        [8, 8, 1],\n",
    "#>        [5, 3, 6],\n",
    "#>        [3, 3, 3],\n",
    "#>        [2, 1, 9]])```"
   ]
  },
  {
   "cell_type": "code",
   "execution_count": null,
   "metadata": {},
   "outputs": [],
   "source": []
  },
  {
   "cell_type": "markdown",
   "metadata": {},
   "source": [
    "**57.如何计算一个2维numpy数组的每一行的最小值与最大值之比？** \n",
    "\n",
    "难度等级：L3 \n",
    "\n",
    "问：为给定的2d numpy数组计算每行的最小值与最大值之比。\n",
    "\n",
    "\n",
    "```np.random.seed(100)\n",
    "a = np.random.randint(1,10, [5,3])\n",
    "a\n",
    "#> array([[9, 9, 4],\n",
    "#>        [8, 8, 1],\n",
    "#>        [5, 3, 6],\n",
    "#>        [3, 3, 3],\n",
    "#>        [2, 1, 9]])```"
   ]
  },
  {
   "cell_type": "code",
   "execution_count": null,
   "metadata": {},
   "outputs": [],
   "source": []
  },
  {
   "cell_type": "markdown",
   "metadata": {},
   "source": [
    "**58.如何在numpy数组中查找重复记录？** \n",
    "\n",
    "难度等级：L3 \n",
    "\n",
    "问：在给定的numpy数组中找到重复的条目（第二次出现），并将其标记为True。第一次出现应该是False。\n",
    "\n",
    "输入： \n",
    "\n",
    "```np.random.seed(100)\n",
    "a = np.random.randint(0, 5, 10)\n",
    "print('Array: ', a)\n",
    "#> Array: [0 0 3 0 2 4 2 2 2 2]```\n",
    "\n",
    "期望的输出：\n",
    "\n",
    "#> [False  True False  True False False  True  True  True  True]"
   ]
  },
  {
   "cell_type": "code",
   "execution_count": null,
   "metadata": {},
   "outputs": [],
   "source": []
  },
  {
   "cell_type": "markdown",
   "metadata": {},
   "source": [
    "**59.如何找到numpy中的分组均值？** \n",
    "\n",
    "难度等级:L3 \n",
    "\n",
    "问：在二维numpy数组中找到按类别列分组的数字列的均值\n",
    "\n",
    "输入：\n",
    "\n",
    "```url = 'https://archive.ics.uci.edu/ml/machine-learning-databases/iris/iris.data'\n",
    "iris = np.genfromtxt(url, delimiter=',', dtype='object')\n",
    "names = ('sepallength', 'sepalwidth', 'petallength', 'petalwidth', 'species')```\n",
    "\n",
    "期望的输出：\n",
    "\n",
    "``` [[b'Iris-setosa', 3.418],\n",
    " [b'Iris-versicolor', 2.770],\n",
    " [b'Iris-virginica', 2.974]]```"
   ]
  },
  {
   "cell_type": "code",
   "execution_count": null,
   "metadata": {},
   "outputs": [],
   "source": []
  },
  {
   "cell_type": "markdown",
   "metadata": {},
   "source": [
    "**60.如何将PIL图像转换为numpy数组?** \n",
    "\n",
    "难度等级：L3 \n",
    "\n",
    "问：从以下URL导入图像并将其转换为numpy数组。 \n",
    "\n",
    "网址='https://gimg2.baidu.com/image_search/src=http%3A%2F%2Ftrekandmountain.com%2Fwp-content%2Fuploads%2F2017%2F04%2FDenali-Alamy-web-1014x400.jpg&refer=http%3A%2F%2Ftrekandmountain.com&app=2002&size=f9999,10000&q=a80&n=0&g=0n&fmt=jpeg?sec=1624419757&t=881a756a8ddb880cbb4ee974dbdc2ac6'\n",
    "##'https://upload.wikimedia.org/wikipedia/commons/8/8b/Denali_Mt_McKinley.jpg'"
   ]
  },
  {
   "cell_type": "code",
   "execution_count": null,
   "metadata": {},
   "outputs": [],
   "source": []
  },
  {
   "cell_type": "markdown",
   "metadata": {},
   "source": [
    "**61.如何从numpy数组中删除所有缺少的值？** \n",
    "\n",
    "难度等级：L2 \n",
    "\n",
    "问：删除一维numpy数组中的所有nan值 \n",
    "\n",
    "输入：\n",
    "\n",
    "```\n",
    "np.array([1,2,3,np.nan,5,6,7,np.nan])``` \n",
    "\n",
    "\n",
    "期望的输出： \n",
    "```array([ 1.,  2.,  3.,  5.,  6.,  7.])```"
   ]
  },
  {
   "cell_type": "code",
   "execution_count": null,
   "metadata": {},
   "outputs": [],
   "source": []
  },
  {
   "cell_type": "markdown",
   "metadata": {},
   "source": [
    "**62.如何计算两个数组之间的欧式距离？** \n",
    "\n",
    "难度等级：L3 \n",
    "\n",
    "Q.计算两个numpy数组a和b之间的欧几里得距离。\n",
    "\n",
    "输入：\n",
    "\n",
    "a = np.array([1,2,3,4,5]) \n",
    "\n",
    "b = np.array([4,5,6,7,8])"
   ]
  },
  {
   "cell_type": "code",
   "execution_count": null,
   "metadata": {},
   "outputs": [],
   "source": []
  },
  {
   "cell_type": "markdown",
   "metadata": {},
   "source": [
    "**63.如何找到一维数组中的所有局部最大值（或峰值）？** \n",
    "\n",
    "难度等级：L4 \n",
    "\n",
    "问：在一维numpy数组a中找到所有峰。峰值是两边都被较小值包围的点。\n",
    "\n",
    "输入：\n",
    "\n",
    "a = np.array([1, 3, 7, 1, 2, 6, 0, 1])\n",
    "\n",
    "期望的输出：\n",
    "\n",
    "#> array([2, 5])\n",
    "其中2和5是峰值7和6的位置。"
   ]
  },
  {
   "cell_type": "code",
   "execution_count": null,
   "metadata": {},
   "outputs": [],
   "source": []
  },
  {
   "cell_type": "markdown",
   "metadata": {},
   "source": [
    "## **64.如何从2d数组中减去1d数组，其中1d数组的每一项都从2d数组相应的行中减去？** \n",
    "\n",
    "难度等级：L2 \n",
    "\n",
    "问：从2d数组a_2d中减去1d数组b_1d，以便从a_2d的相应行中减去b_1d的每一项。\n",
    "\n",
    "```\n",
    "a_2d = np.array([[3,3,3],[4,4,4],[5,5,5]]) \n",
    "b_1d = np.array([1,2,3])```\n",
    "\n",
    "期望的输出：\n",
    "\n",
    "``` [[2 2 2]\n",
    " [2 2 2]\n",
    " [2 2 2]]```"
   ]
  },
  {
   "cell_type": "code",
   "execution_count": null,
   "metadata": {},
   "outputs": [],
   "source": []
  },
  {
   "cell_type": "markdown",
   "metadata": {},
   "source": [
    "**65.如何找到数组中第n个重复项的索引** \n",
    "\n",
    "难度等级:L2 \n",
    "\n",
    "问：在x中找到数字1的第5个重复的索引 \n",
    "\n",
    "x = np.array([1, 2, 1, 1, 3, 4, 3, 1, 1, 2, 1, 1, 2])"
   ]
  },
  {
   "cell_type": "code",
   "execution_count": null,
   "metadata": {},
   "outputs": [],
   "source": []
  },
  {
   "cell_type": "markdown",
   "metadata": {},
   "source": [
    "**66.如何将numpy的datetime64对象转换为datetime的datetime对象？** \n",
    "\n",
    "难度等级：L2 \n",
    "\n",
    "问：将numpy的datetime64对象转换为datetime的datetime对象 \n",
    "\n",
    "输入: \n",
    "```a numpy datetime64 object \n",
    "dt64 = np.datetime64（'2018-02-25 22:10:10' ）```"
   ]
  },
  {
   "cell_type": "code",
   "execution_count": null,
   "metadata": {},
   "outputs": [],
   "source": []
  },
  {
   "cell_type": "markdown",
   "metadata": {},
   "source": [
    "**67.如何计算一个numpy数组的移动平均值？** \n",
    "\n",
    "难度等级：L3 \n",
    "\n",
    "问：计算给定的一维数组的窗口大小3的移动平均值。\n",
    "\n",
    "输入：\n",
    "\n",
    "```\n",
    "np.random.seed(100) \n",
    "Z = np.random.randint(10, size=10)```"
   ]
  },
  {
   "cell_type": "code",
   "execution_count": null,
   "metadata": {},
   "outputs": [],
   "source": []
  },
  {
   "cell_type": "markdown",
   "metadata": {},
   "source": [
    "**68.如何仅给出起点，长度和步长来创建一个numpy数组序列？** \n",
    "\n",
    "难度等级：L2 \n",
    "\n",
    "问：创建一个长度为10的numpy数组，从5开始，连续数字之间的步长为3 \n"
   ]
  },
  {
   "cell_type": "code",
   "execution_count": null,
   "metadata": {},
   "outputs": [],
   "source": []
  },
  {
   "cell_type": "markdown",
   "metadata": {},
   "source": [
    "**69.如何在不规则的一系列numpy日期中填写缺失的日期？** \n",
    "\n",
    "难度等级：L3 \n",
    "\n",
    "问：给定一个非连续日期序列的数组。通过填写缺失的日期，使其成为连续的日期序列。\n",
    "\n",
    "输入：\n",
    "\n",
    "/<code>\n",
    "dates = np.arange(np.datetime64('2018-02-01'), np.datetime64('2018-02-25'), 2)\n",
    "print(dates)\n",
    " ['2018-02-01' '2018-02-03' '2018-02-05' '2018-02-07' '2018-02-09'\n",
    "'2018-02-11' '2018-02-13' '2018-02-15' '2018-02-17' '2018-02-19'\n",
    " '2018-02-21' '2018-02-23']\n",
    "/</code>"
   ]
  },
  {
   "cell_type": "code",
   "execution_count": null,
   "metadata": {},
   "outputs": [],
   "source": []
  },
  {
   "cell_type": "markdown",
   "metadata": {},
   "source": [
    "**70.如何从给定的一维数组创建步幅指定的新数组？** \n",
    "\n",
    "难度等级：L4 \n",
    "\n",
    "问：从给定的1d数组arr中，使用步幅生成2d矩阵，窗口长为4，步长为2，例如[[0,1,2,3]，[2,3,4,5]，[4 ，5,6,7] ..] \n",
    "\n",
    "输入：\n",
    "\n",
    "```\n",
    "arr = np.arange(15) \n",
    "arr\n",
    "#> array([ 0,  1,  2,  3,  4,  5,  6,  7,  8,  9, 10, 11, 12, 13, 14])```"
   ]
  },
  {
   "cell_type": "code",
   "execution_count": null,
   "metadata": {},
   "outputs": [],
   "source": []
  }
 ],
 "metadata": {
  "kernelspec": {
   "display_name": "Python 3",
   "language": "python",
   "name": "python3"
  },
  "language_info": {
   "codemirror_mode": {
    "name": "ipython",
    "version": 3
   },
   "file_extension": ".py",
   "mimetype": "text/x-python",
   "name": "python",
   "nbconvert_exporter": "python",
   "pygments_lexer": "ipython3",
   "version": "3.7.0"
  }
 },
 "nbformat": 4,
 "nbformat_minor": 2
}
